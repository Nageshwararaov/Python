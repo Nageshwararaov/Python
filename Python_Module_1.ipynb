{
  "cells": [
    {
      "cell_type": "markdown",
      "metadata": {
        "id": "view-in-github",
        "colab_type": "text"
      },
      "source": [
        "<a href=\"https://colab.research.google.com/github/Nageshwararaov/Python/blob/main/Python_Module_1.ipynb\" target=\"_parent\"><img src=\"https://colab.research.google.com/assets/colab-badge.svg\" alt=\"Open In Colab\"/></a>"
      ]
    },
    {
      "cell_type": "code",
      "execution_count": null,
      "metadata": {
        "colab": {
          "base_uri": "https://localhost:8080/"
        },
        "id": "2G2RAZVWYT2O",
        "outputId": "b860282d-3a55-40cf-d1e9-fb48d4efe17c"
      },
      "outputs": [
        {
          "name": "stdout",
          "output_type": "stream",
          "text": [
            "Hello Everyone\n"
          ]
        }
      ],
      "source": [
        "print(\"Hello Everyone\")"
      ]
    },
    {
      "cell_type": "code",
      "execution_count": null,
      "metadata": {
        "colab": {
          "base_uri": "https://localhost:8080/"
        },
        "id": "dhz7XZllsa-t",
        "outputId": "7e7c68ce-3e9c-401f-9373-34ac88122460"
      },
      "outputs": [
        {
          "name": "stdout",
          "output_type": "stream",
          "text": [
            "3\n"
          ]
        }
      ],
      "source": [
        "print(1+2)"
      ]
    },
    {
      "cell_type": "code",
      "execution_count": null,
      "metadata": {
        "colab": {
          "base_uri": "https://localhost:8080/"
        },
        "id": "M85XH_PbvsZV",
        "outputId": "742a46a5-e5f8-4c69-fafd-11f48cd6ea5f"
      },
      "outputs": [
        {
          "data": {
            "text/plain": [
              "int"
            ]
          },
          "execution_count": 3,
          "metadata": {},
          "output_type": "execute_result"
        }
      ],
      "source": [
        "type(-3)"
      ]
    },
    {
      "cell_type": "code",
      "execution_count": null,
      "metadata": {
        "colab": {
          "base_uri": "https://localhost:8080/"
        },
        "id": "GViMeJu3v8Dk",
        "outputId": "8ca1791d-8c90-4e22-bf27-b5351cdb8c4f"
      },
      "outputs": [
        {
          "data": {
            "text/plain": [
              "float"
            ]
          },
          "execution_count": 4,
          "metadata": {},
          "output_type": "execute_result"
        }
      ],
      "source": [
        "type(3.4)"
      ]
    },
    {
      "cell_type": "code",
      "execution_count": null,
      "metadata": {
        "colab": {
          "base_uri": "https://localhost:8080/"
        },
        "id": "SahAGZyHv_Gt",
        "outputId": "63ba3414-dc46-411c-a46d-01bb2d4c0d06"
      },
      "outputs": [
        {
          "data": {
            "text/plain": [
              "str"
            ]
          },
          "execution_count": 5,
          "metadata": {},
          "output_type": "execute_result"
        }
      ],
      "source": [
        "type('23')"
      ]
    },
    {
      "cell_type": "code",
      "execution_count": null,
      "metadata": {
        "colab": {
          "base_uri": "https://localhost:8080/"
        },
        "id": "z5ERNtfgwOJN",
        "outputId": "59abf2a2-eac8-42cb-827c-bf11ece8f4d6"
      },
      "outputs": [
        {
          "name": "stdout",
          "output_type": "stream",
          "text": [
            "2+5\n"
          ]
        }
      ],
      "source": [
        "print('2+5')"
      ]
    },
    {
      "cell_type": "code",
      "execution_count": null,
      "metadata": {
        "colab": {
          "base_uri": "https://localhost:8080/"
        },
        "id": "Ks96DH4wwaAX",
        "outputId": "f37252ee-4f12-4c87-83f6-958cc7823a5c"
      },
      "outputs": [
        {
          "data": {
            "text/plain": [
              "bool"
            ]
          },
          "execution_count": 7,
          "metadata": {},
          "output_type": "execute_result"
        }
      ],
      "source": [
        "type(True)"
      ]
    },
    {
      "cell_type": "code",
      "execution_count": null,
      "metadata": {
        "id": "0EuJqvE6yNsC"
      },
      "outputs": [],
      "source": [
        "# Python is Case Sensitive"
      ]
    },
    {
      "cell_type": "code",
      "execution_count": null,
      "metadata": {
        "colab": {
          "base_uri": "https://localhost:8080/",
          "height": 176
        },
        "id": "CspF-DJXya36",
        "outputId": "36e5ed1e-aca9-4e73-f06c-5e8c6f6ed436"
      },
      "outputs": [
        {
          "ename": "NameError",
          "evalue": "ignored",
          "output_type": "error",
          "traceback": [
            "\u001b[0;31m---------------------------------------------------------------------------\u001b[0m",
            "\u001b[0;31mNameError\u001b[0m                                 Traceback (most recent call last)",
            "\u001b[0;32m<ipython-input-9-6f4d8242c3d0>\u001b[0m in \u001b[0;36m<cell line: 1>\u001b[0;34m()\u001b[0m\n\u001b[0;32m----> 1\u001b[0;31m \u001b[0mtype\u001b[0m\u001b[0;34m(\u001b[0m\u001b[0mtrue\u001b[0m\u001b[0;34m)\u001b[0m\u001b[0;34m\u001b[0m\u001b[0;34m\u001b[0m\u001b[0m\n\u001b[0m",
            "\u001b[0;31mNameError\u001b[0m: name 'true' is not defined"
          ]
        }
      ],
      "source": [
        "type(true)"
      ]
    },
    {
      "cell_type": "code",
      "execution_count": null,
      "metadata": {
        "id": "Qo5ckTxbyfg_"
      },
      "outputs": [],
      "source": [
        "#None Type"
      ]
    },
    {
      "cell_type": "code",
      "execution_count": null,
      "metadata": {
        "colab": {
          "base_uri": "https://localhost:8080/"
        },
        "id": "NxFapCIQym9C",
        "outputId": "f6412f72-6465-4c7c-fcd2-af563da2a045"
      },
      "outputs": [
        {
          "data": {
            "text/plain": [
              "NoneType"
            ]
          },
          "execution_count": 11,
          "metadata": {},
          "output_type": "execute_result"
        }
      ],
      "source": [
        "type(None)"
      ]
    },
    {
      "cell_type": "code",
      "execution_count": null,
      "metadata": {
        "colab": {
          "base_uri": "https://localhost:8080/"
        },
        "id": "gpk__a1lyrFH",
        "outputId": "8640fe93-dacd-44c8-dd23-2e3281b80782"
      },
      "outputs": [
        {
          "data": {
            "text/plain": [
              "str"
            ]
          },
          "execution_count": 15,
          "metadata": {},
          "output_type": "execute_result"
        }
      ],
      "source": [
        "type('') ## empty string"
      ]
    },
    {
      "cell_type": "code",
      "execution_count": null,
      "metadata": {
        "colab": {
          "base_uri": "https://localhost:8080/"
        },
        "id": "SS8Ghf1qyurc",
        "outputId": "7e2fe8e3-1ffd-4f04-85da-e0bf84b1c0dc"
      },
      "outputs": [
        {
          "data": {
            "text/plain": [
              "str"
            ]
          },
          "execution_count": 16,
          "metadata": {},
          "output_type": "execute_result"
        }
      ],
      "source": [
        "type(\" \")"
      ]
    },
    {
      "cell_type": "code",
      "execution_count": null,
      "metadata": {
        "id": "B92N51n3zJEM"
      },
      "outputs": [],
      "source": [
        "# Everything in python is an Object"
      ]
    },
    {
      "cell_type": "code",
      "execution_count": null,
      "metadata": {
        "colab": {
          "base_uri": "https://localhost:8080/"
        },
        "id": "0e7ccphbz57K",
        "outputId": "cb993f08-d52a-4caf-e30c-ee51badecedb"
      },
      "outputs": [
        {
          "name": "stdout",
          "output_type": "stream",
          "text": [
            "A J 1 1.5 5\n"
          ]
        }
      ],
      "source": [
        "print(\"A\", \"J\", 1, 1.5, 5)"
      ]
    },
    {
      "cell_type": "code",
      "execution_count": null,
      "metadata": {
        "colab": {
          "base_uri": "https://localhost:8080/"
        },
        "id": "IlfBmkpu4wCv",
        "outputId": "60cd1421-11ba-48ce-d8eb-d41b094ce811"
      },
      "outputs": [
        {
          "name": "stdout",
          "output_type": "stream",
          "text": [
            "xy\n"
          ]
        }
      ],
      "source": [
        "x=2\n",
        "y=3\n",
        "print('x'+'y')"
      ]
    },
    {
      "cell_type": "code",
      "execution_count": null,
      "metadata": {
        "colab": {
          "base_uri": "https://localhost:8080/"
        },
        "id": "Py9Bxi8g5-pN",
        "outputId": "949cf04d-ae1a-4a9d-b5ef-5e870761f6f5"
      },
      "outputs": [
        {
          "name": "stdout",
          "output_type": "stream",
          "text": [
            "5\n"
          ]
        }
      ],
      "source": [
        "x = 2\n",
        "y=3\n",
        "print(x+y)"
      ]
    },
    {
      "cell_type": "code",
      "execution_count": null,
      "metadata": {
        "colab": {
          "base_uri": "https://localhost:8080/"
        },
        "id": "kS_g0stX6LSE",
        "outputId": "bb37d8a6-6fce-4895-b9fc-6044eb5f23bb"
      },
      "outputs": [
        {
          "name": "stdout",
          "output_type": "stream",
          "text": [
            "2 a\n"
          ]
        }
      ],
      "source": [
        "a = 2\n",
        "print(a, 'a')"
      ]
    },
    {
      "cell_type": "code",
      "execution_count": null,
      "metadata": {
        "colab": {
          "base_uri": "https://localhost:8080/"
        },
        "id": "S5rte_k96f4i",
        "outputId": "2aebf3d8-6271-4068-c558-fe61aab6603b"
      },
      "outputs": [
        {
          "name": "stdout",
          "output_type": "stream",
          "text": [
            "hello 5\n"
          ]
        }
      ],
      "source": [
        "x= 3\n",
        "y = \"hello\"\n",
        "num = y\n",
        "y = 5\n",
        "print(num, y)"
      ]
    },
    {
      "cell_type": "code",
      "execution_count": null,
      "metadata": {
        "id": "Km2XXPWF71LM"
      },
      "outputs": [],
      "source": [
        "a1 = 2"
      ]
    },
    {
      "cell_type": "code",
      "execution_count": null,
      "metadata": {
        "colab": {
          "base_uri": "https://localhost:8080/"
        },
        "id": "67TF0b_6Af45",
        "outputId": "95c55e71-73c6-4760-ed19-4c321c9957b2"
      },
      "outputs": [
        {
          "data": {
            "text/plain": [
              "2"
            ]
          },
          "execution_count": 26,
          "metadata": {},
          "output_type": "execute_result"
        }
      ],
      "source": [
        "a1"
      ]
    },
    {
      "cell_type": "code",
      "execution_count": null,
      "metadata": {
        "id": "shUC-HPeAg8K"
      },
      "outputs": [],
      "source": [
        "a2b=3"
      ]
    },
    {
      "cell_type": "code",
      "execution_count": null,
      "metadata": {
        "colab": {
          "base_uri": "https://localhost:8080/"
        },
        "id": "aNjeMgxJAqIm",
        "outputId": "e3b3c9ff-0d63-47a9-ecf5-be32d8242d11"
      },
      "outputs": [
        {
          "data": {
            "text/plain": [
              "3"
            ]
          },
          "execution_count": 28,
          "metadata": {},
          "output_type": "execute_result"
        }
      ],
      "source": [
        "a2b"
      ]
    },
    {
      "cell_type": "code",
      "execution_count": null,
      "metadata": {
        "colab": {
          "base_uri": "https://localhost:8080/"
        },
        "id": "9iJJkbgTAqqA",
        "outputId": "09d5b20a-b5cd-419f-aea3-fc5daade3473"
      },
      "outputs": [
        {
          "name": "stdout",
          "output_type": "stream",
          "text": [
            "A\n",
            "B\n",
            "C\n",
            "D\n",
            "E\n"
          ]
        }
      ],
      "source": [
        "print(\"A\\nB\\nC\\nD\\nE\")"
      ]
    },
    {
      "cell_type": "code",
      "execution_count": null,
      "metadata": {
        "colab": {
          "base_uri": "https://localhost:8080/"
        },
        "id": "E5jrvk-dDVrJ",
        "outputId": "1c79d81e-982c-4ff2-9a38-d0d47f79f256"
      },
      "outputs": [
        {
          "name": "stdout",
          "output_type": "stream",
          "text": [
            "A\n",
            "B\n",
            "C\n",
            "D\n",
            "E\n"
          ]
        }
      ],
      "source": [
        "print(\"A\")\n",
        "print(\"B\")\n",
        "print(\"C\")\n",
        "print(\"D\")\n",
        "print(\"E\")"
      ]
    },
    {
      "cell_type": "code",
      "execution_count": null,
      "metadata": {
        "colab": {
          "base_uri": "https://localhost:8080/"
        },
        "id": "P5-AHStXDbmJ",
        "outputId": "1dc5d209-9888-4f8b-b77b-e81b910ee23e"
      },
      "outputs": [
        {
          "name": "stdout",
          "output_type": "stream",
          "text": [
            "4\n",
            "5\n",
            "45\n"
          ]
        }
      ],
      "source": [
        "a = input()\n",
        "b = input()\n",
        "print(a+b)\n"
      ]
    },
    {
      "cell_type": "code",
      "execution_count": null,
      "metadata": {
        "colab": {
          "base_uri": "https://localhost:8080/",
          "height": 280
        },
        "id": "45-1JyHxDu_3",
        "outputId": "3ae0c5cb-c21f-4ec3-fae4-9870eb0fc17b"
      },
      "outputs": [
        {
          "name": "stdout",
          "output_type": "stream",
          "text": [
            "<class 'int'>\n",
            "<class 'str'>\n",
            "<class 'float'>\n",
            "<class 'bool'>\n"
          ]
        },
        {
          "ename": "NameError",
          "evalue": "ignored",
          "output_type": "error",
          "traceback": [
            "\u001b[0;31m---------------------------------------------------------------------------\u001b[0m",
            "\u001b[0;31mNameError\u001b[0m                                 Traceback (most recent call last)",
            "\u001b[0;32m<ipython-input-32-1c94529303de>\u001b[0m in \u001b[0;36m<cell line: 5>\u001b[0;34m()\u001b[0m\n\u001b[1;32m      3\u001b[0m \u001b[0mprint\u001b[0m\u001b[0;34m(\u001b[0m\u001b[0mtype\u001b[0m\u001b[0;34m(\u001b[0m\u001b[0mfloat\u001b[0m\u001b[0;34m(\u001b[0m\u001b[0mint\u001b[0m\u001b[0;34m(\u001b[0m\u001b[0;36m0.1\u001b[0m\u001b[0;34m)\u001b[0m\u001b[0;34m)\u001b[0m\u001b[0;34m)\u001b[0m\u001b[0;34m)\u001b[0m\u001b[0;34m\u001b[0m\u001b[0;34m\u001b[0m\u001b[0m\n\u001b[1;32m      4\u001b[0m \u001b[0mprint\u001b[0m\u001b[0;34m(\u001b[0m\u001b[0mtype\u001b[0m\u001b[0;34m(\u001b[0m\u001b[0;32mTrue\u001b[0m\u001b[0;34m)\u001b[0m\u001b[0;34m)\u001b[0m\u001b[0;34m\u001b[0m\u001b[0;34m\u001b[0m\u001b[0m\n\u001b[0;32m----> 5\u001b[0;31m \u001b[0mprint\u001b[0m\u001b[0;34m(\u001b[0m\u001b[0mtype\u001b[0m\u001b[0;34m(\u001b[0m\u001b[0mFloat\u001b[0m\u001b[0;34m(\u001b[0m\u001b[0;36m1\u001b[0m\u001b[0;34m)\u001b[0m\u001b[0;34m)\u001b[0m\u001b[0;34m)\u001b[0m\u001b[0;34m\u001b[0m\u001b[0;34m\u001b[0m\u001b[0m\n\u001b[0m",
            "\u001b[0;31mNameError\u001b[0m: name 'Float' is not defined"
          ]
        }
      ],
      "source": [
        "print(type(1))\n",
        "print(type(str(True) + '1'))\n",
        "print(type(float(int(0.1))))\n",
        "print(type(True))\n",
        "print(type(Float(1)))"
      ]
    },
    {
      "cell_type": "code",
      "execution_count": null,
      "metadata": {
        "colab": {
          "base_uri": "https://localhost:8080/",
          "height": 176
        },
        "id": "Wwe350JXEsRw",
        "outputId": "78e4c683-03bf-492e-84e0-e6453f99955d"
      },
      "outputs": [
        {
          "ename": "NameError",
          "evalue": "ignored",
          "output_type": "error",
          "traceback": [
            "\u001b[0;31m---------------------------------------------------------------------------\u001b[0m",
            "\u001b[0;31mNameError\u001b[0m                                 Traceback (most recent call last)",
            "\u001b[0;32m<ipython-input-34-362b686b1beb>\u001b[0m in \u001b[0;36m<cell line: 1>\u001b[0;34m()\u001b[0m\n\u001b[0;32m----> 1\u001b[0;31m \u001b[0mPrint\u001b[0m\u001b[0;34m(\u001b[0m\u001b[0;34m'2+5'\u001b[0m\u001b[0;34m)\u001b[0m \u001b[0;31m#### Python is Case sensitive\u001b[0m\u001b[0;34m\u001b[0m\u001b[0;34m\u001b[0m\u001b[0m\n\u001b[0m",
            "\u001b[0;31mNameError\u001b[0m: name 'Print' is not defined"
          ]
        }
      ],
      "source": [
        "Print('2+5') #### Python is Case sensitive"
      ]
    },
    {
      "cell_type": "code",
      "execution_count": null,
      "metadata": {
        "id": "77MriHVtLKZz"
      },
      "outputs": [],
      "source": [
        "## operators"
      ]
    },
    {
      "cell_type": "code",
      "execution_count": null,
      "metadata": {
        "colab": {
          "base_uri": "https://localhost:8080/"
        },
        "id": "eNkkH8IEhpGk",
        "outputId": "f991c446-e7f8-4cdb-e210-826a1b88fd10"
      },
      "outputs": [
        {
          "data": {
            "text/plain": [
              "13"
            ]
          },
          "execution_count": 2,
          "metadata": {},
          "output_type": "execute_result"
        }
      ],
      "source": [
        "10 + 3"
      ]
    },
    {
      "cell_type": "code",
      "execution_count": null,
      "metadata": {
        "colab": {
          "base_uri": "https://localhost:8080/"
        },
        "id": "5KZa9zplhv0q",
        "outputId": "9252a8fe-b62c-4a28-ba1c-84b866611897"
      },
      "outputs": [
        {
          "data": {
            "text/plain": [
              "7"
            ]
          },
          "execution_count": 3,
          "metadata": {},
          "output_type": "execute_result"
        }
      ],
      "source": [
        "10 -3"
      ]
    },
    {
      "cell_type": "code",
      "execution_count": null,
      "metadata": {
        "colab": {
          "base_uri": "https://localhost:8080/"
        },
        "id": "wD7vW0ekhwoG",
        "outputId": "17f46fbd-137e-4677-bef1-24f5cced2f6c"
      },
      "outputs": [
        {
          "data": {
            "text/plain": [
              "30"
            ]
          },
          "execution_count": 4,
          "metadata": {},
          "output_type": "execute_result"
        }
      ],
      "source": [
        "10 * 3"
      ]
    },
    {
      "cell_type": "code",
      "execution_count": null,
      "metadata": {
        "colab": {
          "base_uri": "https://localhost:8080/"
        },
        "id": "Uz-e6HGahxgP",
        "outputId": "e854349f-423a-40d9-87eb-d3828aaab867"
      },
      "outputs": [
        {
          "data": {
            "text/plain": [
              "3.3333333333333335"
            ]
          },
          "execution_count": 5,
          "metadata": {},
          "output_type": "execute_result"
        }
      ],
      "source": [
        "10/3"
      ]
    },
    {
      "cell_type": "code",
      "execution_count": null,
      "metadata": {
        "colab": {
          "base_uri": "https://localhost:8080/"
        },
        "id": "LoBEQIsOhyTU",
        "outputId": "25f42bb8-ba90-4634-cf73-9abb2583f0c0"
      },
      "outputs": [
        {
          "data": {
            "text/plain": [
              "2.0"
            ]
          },
          "execution_count": 6,
          "metadata": {},
          "output_type": "execute_result"
        }
      ],
      "source": [
        "4/2"
      ]
    },
    {
      "cell_type": "code",
      "execution_count": null,
      "metadata": {
        "id": "9JRWOmRmhzkS"
      },
      "outputs": [],
      "source": [
        "#### Rule 1 Python operators try to retain as much data as possible."
      ]
    },
    {
      "cell_type": "code",
      "execution_count": null,
      "metadata": {
        "id": "NnbWyYWOh4Qr"
      },
      "outputs": [],
      "source": [
        "# whenever we divide two inters or floats always the result will be float because python try to retain data as much as possbile/''"
      ]
    },
    {
      "cell_type": "code",
      "execution_count": null,
      "metadata": {
        "colab": {
          "base_uri": "https://localhost:8080/",
          "height": 176
        },
        "id": "3QleL1IUigkK",
        "outputId": "3d788ebb-b435-47a6-b61e-37996f1a89eb"
      },
      "outputs": [
        {
          "ename": "TypeError",
          "evalue": "ignored",
          "output_type": "error",
          "traceback": [
            "\u001b[0;31m---------------------------------------------------------------------------\u001b[0m",
            "\u001b[0;31mTypeError\u001b[0m                                 Traceback (most recent call last)",
            "\u001b[0;32m<ipython-input-9-1b4c6494f803>\u001b[0m in \u001b[0;36m<cell line: 1>\u001b[0;34m()\u001b[0m\n\u001b[0;32m----> 1\u001b[0;31m \u001b[0;36m2\u001b[0m \u001b[0;34m+\u001b[0m \u001b[0;34m'aj'\u001b[0m\u001b[0;34m\u001b[0m\u001b[0;34m\u001b[0m\u001b[0m\n\u001b[0m",
            "\u001b[0;31mTypeError\u001b[0m: unsupported operand type(s) for +: 'int' and 'str'"
          ]
        }
      ],
      "source": [
        "2 + 'aj'"
      ]
    },
    {
      "cell_type": "code",
      "execution_count": null,
      "metadata": {
        "colab": {
          "base_uri": "https://localhost:8080/",
          "height": 35
        },
        "id": "XeB5_tYvioj7",
        "outputId": "cc673ba3-9e2f-47a6-c450-e2f7bd0fcd0f"
      },
      "outputs": [
        {
          "data": {
            "application/vnd.google.colaboratory.intrinsic+json": {
              "type": "string"
            },
            "text/plain": [
              "'2aj'"
            ]
          },
          "execution_count": 12,
          "metadata": {},
          "output_type": "execute_result"
        }
      ],
      "source": [
        "\"2\"+\"aj\""
      ]
    },
    {
      "cell_type": "code",
      "execution_count": null,
      "metadata": {
        "colab": {
          "base_uri": "https://localhost:8080/"
        },
        "id": "y_YtKIbbiqB8",
        "outputId": "a9c2dbc3-53eb-4086-e2c8-e360669d6c9d"
      },
      "outputs": [
        {
          "data": {
            "text/plain": [
              "6.8"
            ]
          },
          "execution_count": 13,
          "metadata": {},
          "output_type": "execute_result"
        }
      ],
      "source": [
        "9 - 2.2"
      ]
    },
    {
      "cell_type": "code",
      "execution_count": null,
      "metadata": {
        "colab": {
          "base_uri": "https://localhost:8080/"
        },
        "id": "S6O7tp8li5CS",
        "outputId": "a0a6dda5-6add-4164-9f24-97fb54a94e44"
      },
      "outputs": [
        {
          "data": {
            "text/plain": [
              "6"
            ]
          },
          "execution_count": 14,
          "metadata": {},
          "output_type": "execute_result"
        }
      ],
      "source": [
        "10-4"
      ]
    },
    {
      "cell_type": "code",
      "execution_count": null,
      "metadata": {
        "colab": {
          "base_uri": "https://localhost:8080/"
        },
        "id": "y7qXKyVXi6yc",
        "outputId": "b4d6733c-6b07-49f8-aed5-aa0180a04398"
      },
      "outputs": [
        {
          "data": {
            "text/plain": [
              "7.2"
            ]
          },
          "execution_count": 15,
          "metadata": {},
          "output_type": "execute_result"
        }
      ],
      "source": [
        "2.2+5"
      ]
    },
    {
      "cell_type": "code",
      "execution_count": null,
      "metadata": {
        "id": "p9vSUzZ5i8f7"
      },
      "outputs": [],
      "source": [
        "# Rule 2 ---> whenever atleast one operand is float the result will be float always"
      ]
    },
    {
      "cell_type": "code",
      "execution_count": null,
      "metadata": {
        "colab": {
          "base_uri": "https://localhost:8080/"
        },
        "id": "hfesLfz3jCGC",
        "outputId": "674c0df0-d9da-43b8-edf4-563b3e84faea"
      },
      "outputs": [
        {
          "data": {
            "text/plain": [
              "4.0"
            ]
          },
          "execution_count": 19,
          "metadata": {},
          "output_type": "execute_result"
        }
      ],
      "source": [
        "10/2.5"
      ]
    },
    {
      "cell_type": "code",
      "execution_count": null,
      "metadata": {
        "id": "GSyZ03a4jTfN"
      },
      "outputs": [],
      "source": [
        "# // Floored division operator"
      ]
    },
    {
      "cell_type": "code",
      "execution_count": null,
      "metadata": {
        "id": "t5vzOVdZkDOD"
      },
      "outputs": [],
      "source": [
        "# floor(x) --> greatest integer that is smaller than x"
      ]
    },
    {
      "cell_type": "code",
      "execution_count": null,
      "metadata": {
        "colab": {
          "base_uri": "https://localhost:8080/"
        },
        "id": "qH8np7ZukhnZ",
        "outputId": "02f4f0ea-84a9-4d3a-f170-70abd570fc3e"
      },
      "outputs": [
        {
          "data": {
            "text/plain": [
              "3"
            ]
          },
          "execution_count": 29,
          "metadata": {},
          "output_type": "execute_result"
        }
      ],
      "source": [
        "10//3"
      ]
    },
    {
      "cell_type": "code",
      "execution_count": null,
      "metadata": {
        "colab": {
          "base_uri": "https://localhost:8080/"
        },
        "id": "S-b6rqZtkq4b",
        "outputId": "d0fe546d-0f13-462e-edf2-626e5d843227"
      },
      "outputs": [
        {
          "data": {
            "text/plain": [
              "4.0"
            ]
          },
          "execution_count": 32,
          "metadata": {},
          "output_type": "execute_result"
        }
      ],
      "source": [
        "10//2.5"
      ]
    },
    {
      "cell_type": "code",
      "execution_count": null,
      "metadata": {
        "colab": {
          "base_uri": "https://localhost:8080/"
        },
        "id": "U4gwt6HclRBn",
        "outputId": "a2445c0e-443f-4ced-9de6-682e5cb61904"
      },
      "outputs": [
        {
          "data": {
            "text/plain": [
              "1.25"
            ]
          },
          "execution_count": 33,
          "metadata": {},
          "output_type": "execute_result"
        }
      ],
      "source": [
        "5/4"
      ]
    },
    {
      "cell_type": "code",
      "execution_count": null,
      "metadata": {
        "colab": {
          "base_uri": "https://localhost:8080/"
        },
        "id": "j83r55VQlyG2",
        "outputId": "0fdc7d13-2617-4771-fb0a-feea58bf8c6e"
      },
      "outputs": [
        {
          "data": {
            "text/plain": [
              "1"
            ]
          },
          "execution_count": 34,
          "metadata": {},
          "output_type": "execute_result"
        }
      ],
      "source": [
        "5//4"
      ]
    },
    {
      "cell_type": "code",
      "execution_count": null,
      "metadata": {
        "colab": {
          "base_uri": "https://localhost:8080/"
        },
        "id": "7kv19FA-lzDb",
        "outputId": "09abd242-af04-4b6d-9e3c-7e8d90829ecb"
      },
      "outputs": [
        {
          "data": {
            "text/plain": [
              "-2"
            ]
          },
          "execution_count": 35,
          "metadata": {},
          "output_type": "execute_result"
        }
      ],
      "source": [
        "-5//4"
      ]
    },
    {
      "cell_type": "code",
      "execution_count": null,
      "metadata": {
        "id": "ZoHpsnq9l0w6"
      },
      "outputs": [],
      "source": [
        "# // fLOORED DIVISION OPERATOR"
      ]
    },
    {
      "cell_type": "code",
      "execution_count": null,
      "metadata": {
        "id": "h6FP7Sg-l8gc"
      },
      "outputs": [],
      "source": [
        "# ** operator"
      ]
    },
    {
      "cell_type": "code",
      "execution_count": null,
      "metadata": {
        "colab": {
          "base_uri": "https://localhost:8080/"
        },
        "id": "dpgsYHAxnVGi",
        "outputId": "426c67cf-d0c9-485e-ad73-1e9958e4c771"
      },
      "outputs": [
        {
          "data": {
            "text/plain": [
              "27"
            ]
          },
          "execution_count": 38,
          "metadata": {},
          "output_type": "execute_result"
        }
      ],
      "source": [
        "3 ** 3"
      ]
    },
    {
      "cell_type": "code",
      "execution_count": null,
      "metadata": {
        "colab": {
          "base_uri": "https://localhost:8080/"
        },
        "id": "VEn36ehFnWFJ",
        "outputId": "90e0dca4-7b0e-4da1-b361-3da6b4f85740"
      },
      "outputs": [
        {
          "data": {
            "text/plain": [
              "5.0"
            ]
          },
          "execution_count": 39,
          "metadata": {},
          "output_type": "execute_result"
        }
      ],
      "source": [
        "25 ** 0.5"
      ]
    },
    {
      "cell_type": "code",
      "execution_count": null,
      "metadata": {
        "colab": {
          "base_uri": "https://localhost:8080/"
        },
        "id": "hdfrZN1_nXwK",
        "outputId": "620ed47d-ee89-406a-d119-0394e6ddf76d"
      },
      "outputs": [
        {
          "data": {
            "text/plain": [
              "4"
            ]
          },
          "execution_count": 40,
          "metadata": {},
          "output_type": "execute_result"
        }
      ],
      "source": [
        "2 ** 2"
      ]
    },
    {
      "cell_type": "code",
      "execution_count": null,
      "metadata": {
        "colab": {
          "base_uri": "https://localhost:8080/"
        },
        "id": "svhYlh8Znf4U",
        "outputId": "00887e2c-36af-4e72-9a4f-d3e6fa79b82b"
      },
      "outputs": [
        {
          "data": {
            "text/plain": [
              "8"
            ]
          },
          "execution_count": 41,
          "metadata": {},
          "output_type": "execute_result"
        }
      ],
      "source": [
        "2 ** 3"
      ]
    },
    {
      "cell_type": "code",
      "execution_count": null,
      "metadata": {
        "colab": {
          "base_uri": "https://localhost:8080/",
          "height": 176
        },
        "id": "V4UZ6AZfnhOM",
        "outputId": "1eb34a6e-d728-4659-9141-ff26eb934a72"
      },
      "outputs": [
        {
          "ename": "ZeroDivisionError",
          "evalue": "ignored",
          "output_type": "error",
          "traceback": [
            "\u001b[0;31m---------------------------------------------------------------------------\u001b[0m",
            "\u001b[0;31mZeroDivisionError\u001b[0m                         Traceback (most recent call last)",
            "\u001b[0;32m<ipython-input-42-9e1622b385b6>\u001b[0m in \u001b[0;36m<cell line: 1>\u001b[0;34m()\u001b[0m\n\u001b[0;32m----> 1\u001b[0;31m \u001b[0;36m1\u001b[0m\u001b[0;34m/\u001b[0m\u001b[0;36m0\u001b[0m\u001b[0;34m\u001b[0m\u001b[0;34m\u001b[0m\u001b[0m\n\u001b[0m",
            "\u001b[0;31mZeroDivisionError\u001b[0m: division by zero"
          ]
        }
      ],
      "source": [
        "1/0"
      ]
    },
    {
      "cell_type": "code",
      "execution_count": null,
      "metadata": {
        "colab": {
          "base_uri": "https://localhost:8080/"
        },
        "id": "IACx24sAnqDd",
        "outputId": "64bc85e2-7512-4f54-e60d-d169eebde3dc"
      },
      "outputs": [
        {
          "data": {
            "text/plain": [
              "0.0"
            ]
          },
          "execution_count": 43,
          "metadata": {},
          "output_type": "execute_result"
        }
      ],
      "source": [
        "0/1"
      ]
    },
    {
      "cell_type": "code",
      "execution_count": null,
      "metadata": {
        "id": "5zJeIW2Gnr08"
      },
      "outputs": [],
      "source": [
        "# % Remainder"
      ]
    },
    {
      "cell_type": "code",
      "execution_count": null,
      "metadata": {
        "colab": {
          "base_uri": "https://localhost:8080/"
        },
        "id": "YPK6uGK2oAJY",
        "outputId": "0d8becb9-0d9b-4318-8016-03bb86d21fbf"
      },
      "outputs": [
        {
          "data": {
            "text/plain": [
              "0"
            ]
          },
          "execution_count": 45,
          "metadata": {},
          "output_type": "execute_result"
        }
      ],
      "source": [
        "10%5"
      ]
    },
    {
      "cell_type": "code",
      "execution_count": null,
      "metadata": {
        "colab": {
          "base_uri": "https://localhost:8080/"
        },
        "id": "6Xs21ym8oBY3",
        "outputId": "721cd5a5-51bc-4e0c-a574-5e4e2587a419"
      },
      "outputs": [
        {
          "data": {
            "text/plain": [
              "0"
            ]
          },
          "execution_count": 46,
          "metadata": {},
          "output_type": "execute_result"
        }
      ],
      "source": [
        "10%2"
      ]
    },
    {
      "cell_type": "code",
      "execution_count": null,
      "metadata": {
        "colab": {
          "base_uri": "https://localhost:8080/"
        },
        "id": "f37ss8WWoC-r",
        "outputId": "d549716a-1e85-4be8-fbd1-467a515f3ff8"
      },
      "outputs": [
        {
          "data": {
            "text/plain": [
              "1"
            ]
          },
          "execution_count": 47,
          "metadata": {},
          "output_type": "execute_result"
        }
      ],
      "source": [
        "10%3"
      ]
    },
    {
      "cell_type": "code",
      "execution_count": null,
      "metadata": {
        "colab": {
          "base_uri": "https://localhost:8080/"
        },
        "id": "DExjjghgoEcK",
        "outputId": "27196c74-407e-4fea-deac-f1b9cd6a046e"
      },
      "outputs": [
        {
          "data": {
            "text/plain": [
              "-3.3333333333333335"
            ]
          },
          "execution_count": 48,
          "metadata": {},
          "output_type": "execute_result"
        }
      ],
      "source": [
        "-10/3"
      ]
    },
    {
      "cell_type": "code",
      "execution_count": null,
      "metadata": {
        "colab": {
          "base_uri": "https://localhost:8080/"
        },
        "id": "v7npjVtVokIY",
        "outputId": "3b44b363-f13d-4857-e2b5-700bd618e39a"
      },
      "outputs": [
        {
          "data": {
            "text/plain": [
              "2"
            ]
          },
          "execution_count": 50,
          "metadata": {},
          "output_type": "execute_result"
        }
      ],
      "source": [
        "-10%3"
      ]
    },
    {
      "cell_type": "code",
      "execution_count": null,
      "metadata": {
        "colab": {
          "base_uri": "https://localhost:8080/"
        },
        "id": "8rQhfEdiooKJ",
        "outputId": "02e59fab-f1ba-4663-a2a9-c0f006c65944"
      },
      "outputs": [
        {
          "data": {
            "text/plain": [
              "1.0"
            ]
          },
          "execution_count": 53,
          "metadata": {},
          "output_type": "execute_result"
        }
      ],
      "source": [
        "5/5"
      ]
    },
    {
      "cell_type": "code",
      "execution_count": null,
      "metadata": {
        "id": "dOgI5zpnzAvs"
      },
      "outputs": [],
      "source": [
        "# BODMAS"
      ]
    },
    {
      "cell_type": "code",
      "execution_count": null,
      "metadata": {
        "id": "nN7G2RLI0A1h"
      },
      "outputs": [],
      "source": [
        "# B --> Bracket\n",
        "# O --> Order\n",
        "# D --> Division\n",
        "# M --> Multiplication\n",
        "# A --> Addition\n",
        "# S --> Subtraction"
      ]
    },
    {
      "cell_type": "code",
      "execution_count": null,
      "metadata": {
        "id": "CVXqkb1s0Ked"
      },
      "outputs": [],
      "source": [
        "\n",
        "# For Addition Subtraction --> Same level of precedence\n",
        "# For Division Multiplication --> Same level of precedence\n",
        "# When same order of precedence is occured, then the execution starts from Left to Right"
      ]
    },
    {
      "cell_type": "code",
      "execution_count": null,
      "metadata": {
        "colab": {
          "base_uri": "https://localhost:8080/"
        },
        "id": "h-HdZlH20crz",
        "outputId": "e4ac8718-89ec-42cd-e83f-d29554ecac76"
      },
      "outputs": [
        {
          "data": {
            "text/plain": [
              "11"
            ]
          },
          "execution_count": 58,
          "metadata": {},
          "output_type": "execute_result"
        }
      ],
      "source": [
        "10-2+3"
      ]
    },
    {
      "cell_type": "code",
      "execution_count": null,
      "metadata": {
        "colab": {
          "base_uri": "https://localhost:8080/"
        },
        "id": "t3vBIujr0sUe",
        "outputId": "7912adac-0cba-4111-dd93-2b5673467bb2"
      },
      "outputs": [
        {
          "data": {
            "text/plain": [
              "5"
            ]
          },
          "execution_count": 59,
          "metadata": {},
          "output_type": "execute_result"
        }
      ],
      "source": [
        "10 - (2+3)"
      ]
    },
    {
      "cell_type": "code",
      "execution_count": null,
      "metadata": {
        "colab": {
          "base_uri": "https://localhost:8080/"
        },
        "id": "z2RjKFgc1AyW",
        "outputId": "6741c9d6-a298-4d1b-af17-ec98e6d37dc3"
      },
      "outputs": [
        {
          "data": {
            "text/plain": [
              "4.0"
            ]
          },
          "execution_count": 60,
          "metadata": {},
          "output_type": "execute_result"
        }
      ],
      "source": [
        "(10 - 4 * 2 + 5 - 6/2)\n",
        "# 10 - 8 + 5 - 3\n",
        "# 2 + 5 -3 = 4"
      ]
    },
    {
      "cell_type": "code",
      "execution_count": null,
      "metadata": {
        "id": "tUwVRWdv1dol"
      },
      "outputs": [],
      "source": [
        "# Comparator / RElationship Operators"
      ]
    },
    {
      "cell_type": "code",
      "execution_count": null,
      "metadata": {
        "colab": {
          "base_uri": "https://localhost:8080/"
        },
        "id": "U6VhonQX31qT",
        "outputId": "0cf89dfc-6d47-4175-e94f-1a05a008ef6d"
      },
      "outputs": [
        {
          "data": {
            "text/plain": [
              "True"
            ]
          },
          "execution_count": 64,
          "metadata": {},
          "output_type": "execute_result"
        }
      ],
      "source": [
        "5 == 5.00"
      ]
    },
    {
      "cell_type": "code",
      "execution_count": null,
      "metadata": {
        "colab": {
          "base_uri": "https://localhost:8080/"
        },
        "id": "8EKn97AO4gPn",
        "outputId": "6f9da148-91f0-4010-e06d-b891c7ef7bcd"
      },
      "outputs": [
        {
          "data": {
            "text/plain": [
              "False"
            ]
          },
          "execution_count": 65,
          "metadata": {},
          "output_type": "execute_result"
        }
      ],
      "source": [
        "4 == 5"
      ]
    },
    {
      "cell_type": "code",
      "execution_count": null,
      "metadata": {
        "colab": {
          "base_uri": "https://localhost:8080/"
        },
        "id": "CVU9Ns_J4mIB",
        "outputId": "1347bc2e-689a-40a9-d57a-6e1e61e33c71"
      },
      "outputs": [
        {
          "data": {
            "text/plain": [
              "False"
            ]
          },
          "execution_count": 66,
          "metadata": {},
          "output_type": "execute_result"
        }
      ],
      "source": [
        "a = 5\n",
        "b = 3\n",
        "a == b"
      ]
    },
    {
      "cell_type": "code",
      "execution_count": null,
      "metadata": {
        "id": "jFHFCBZv4nx7"
      },
      "outputs": [],
      "source": [
        "# Truthy and Falsey Values\n",
        "\n"
      ]
    },
    {
      "cell_type": "code",
      "execution_count": null,
      "metadata": {
        "colab": {
          "base_uri": "https://localhost:8080/"
        },
        "id": "uX64J_Id51LB",
        "outputId": "5d5f50e3-bb53-4720-a27a-0e68b897cc60"
      },
      "outputs": [
        {
          "data": {
            "text/plain": [
              "True"
            ]
          },
          "execution_count": 68,
          "metadata": {},
          "output_type": "execute_result"
        }
      ],
      "source": [
        "bool(1)"
      ]
    },
    {
      "cell_type": "code",
      "execution_count": null,
      "metadata": {
        "colab": {
          "base_uri": "https://localhost:8080/"
        },
        "id": "E_gBxj7_59Er",
        "outputId": "fcb0cd37-2e4b-4300-a6cf-b6d969b68907"
      },
      "outputs": [
        {
          "data": {
            "text/plain": [
              "False"
            ]
          },
          "execution_count": 69,
          "metadata": {},
          "output_type": "execute_result"
        }
      ],
      "source": [
        "bool(0)"
      ]
    },
    {
      "cell_type": "code",
      "execution_count": null,
      "metadata": {
        "colab": {
          "base_uri": "https://localhost:8080/"
        },
        "id": "aFpSOJYT595i",
        "outputId": "33d10547-03f2-4a0c-d74f-903ecab31323"
      },
      "outputs": [
        {
          "data": {
            "text/plain": [
              "True"
            ]
          },
          "execution_count": 70,
          "metadata": {},
          "output_type": "execute_result"
        }
      ],
      "source": [
        "bool(5)"
      ]
    },
    {
      "cell_type": "code",
      "execution_count": null,
      "metadata": {
        "colab": {
          "base_uri": "https://localhost:8080/"
        },
        "id": "H8T_WS1b5-83",
        "outputId": "1a550ddb-7f3b-45f1-c480-13f92264ae32"
      },
      "outputs": [
        {
          "data": {
            "text/plain": [
              "True"
            ]
          },
          "execution_count": 71,
          "metadata": {},
          "output_type": "execute_result"
        }
      ],
      "source": [
        "bool(-5)"
      ]
    },
    {
      "cell_type": "code",
      "execution_count": null,
      "metadata": {
        "id": "3NRnqp3R6Az1"
      },
      "outputs": [],
      "source": [
        "## Every number except 0 is considered as Truthy in Python"
      ]
    },
    {
      "cell_type": "code",
      "execution_count": null,
      "metadata": {
        "colab": {
          "base_uri": "https://localhost:8080/"
        },
        "id": "91Qs8z126QWW",
        "outputId": "1710afd2-16a6-4957-ace8-cd4b6882366b"
      },
      "outputs": [
        {
          "data": {
            "text/plain": [
              "True"
            ]
          },
          "execution_count": 73,
          "metadata": {},
          "output_type": "execute_result"
        }
      ],
      "source": [
        "bool(0.1)"
      ]
    },
    {
      "cell_type": "code",
      "execution_count": null,
      "metadata": {
        "colab": {
          "base_uri": "https://localhost:8080/"
        },
        "id": "Qq45H6Uk6kXI",
        "outputId": "3b675619-b4c1-4665-f37b-3de1b6d32524"
      },
      "outputs": [
        {
          "data": {
            "text/plain": [
              "False"
            ]
          },
          "execution_count": 74,
          "metadata": {},
          "output_type": "execute_result"
        }
      ],
      "source": [
        "bool(0.00)"
      ]
    },
    {
      "cell_type": "code",
      "execution_count": null,
      "metadata": {
        "id": "vFdgRfmN6lwb"
      },
      "outputs": [],
      "source": [
        "# Every non empty string is truthy in python\n"
      ]
    },
    {
      "cell_type": "code",
      "execution_count": null,
      "metadata": {
        "colab": {
          "base_uri": "https://localhost:8080/"
        },
        "id": "BbRALizt63BF",
        "outputId": "ae542475-4e68-4ebd-b77c-ad85b2844f7e"
      },
      "outputs": [
        {
          "data": {
            "text/plain": [
              "True"
            ]
          },
          "execution_count": 76,
          "metadata": {},
          "output_type": "execute_result"
        }
      ],
      "source": [
        "bool(\"Nagesh\")"
      ]
    },
    {
      "cell_type": "code",
      "execution_count": null,
      "metadata": {
        "colab": {
          "base_uri": "https://localhost:8080/"
        },
        "id": "-lC1oHiJ7BSb",
        "outputId": "568a2646-0ce8-40d9-c1ed-1b2727105593"
      },
      "outputs": [
        {
          "data": {
            "text/plain": [
              "False"
            ]
          },
          "execution_count": 77,
          "metadata": {},
          "output_type": "execute_result"
        }
      ],
      "source": [
        "bool(\"\")"
      ]
    },
    {
      "cell_type": "code",
      "execution_count": null,
      "metadata": {
        "colab": {
          "base_uri": "https://localhost:8080/"
        },
        "id": "BkqATjdf7B-y",
        "outputId": "a7994c65-908e-4156-c1fb-3e72b735d049"
      },
      "outputs": [
        {
          "data": {
            "text/plain": [
              "True"
            ]
          },
          "execution_count": 78,
          "metadata": {},
          "output_type": "execute_result"
        }
      ],
      "source": [
        "bool(\" \")"
      ]
    },
    {
      "cell_type": "code",
      "execution_count": null,
      "metadata": {
        "colab": {
          "base_uri": "https://localhost:8080/"
        },
        "id": "ZCR7zsMd7DJr",
        "outputId": "e75cb8d3-e995-4c74-991f-e555d740c51a"
      },
      "outputs": [
        {
          "data": {
            "text/plain": [
              "True"
            ]
          },
          "execution_count": 79,
          "metadata": {},
          "output_type": "execute_result"
        }
      ],
      "source": [
        "bool(\"False\")"
      ]
    },
    {
      "cell_type": "code",
      "execution_count": null,
      "metadata": {
        "colab": {
          "base_uri": "https://localhost:8080/"
        },
        "id": "gYlzE-bk7cHA",
        "outputId": "b024b914-62f8-4d9a-a455-98b11bdd5c85"
      },
      "outputs": [
        {
          "data": {
            "text/plain": [
              "True"
            ]
          },
          "execution_count": 80,
          "metadata": {},
          "output_type": "execute_result"
        }
      ],
      "source": [
        "bool(4 !=3)"
      ]
    },
    {
      "cell_type": "code",
      "execution_count": null,
      "metadata": {
        "id": "cetdlh1d7dpQ"
      },
      "outputs": [],
      "source": [
        "# 3. Assignment Operators"
      ]
    },
    {
      "cell_type": "code",
      "execution_count": null,
      "metadata": {
        "id": "fgOJjZdG8Ab9"
      },
      "outputs": [],
      "source": [
        "# = --> Assignment standard operator"
      ]
    },
    {
      "cell_type": "code",
      "execution_count": null,
      "metadata": {
        "id": "GdVePjG_8EkO"
      },
      "outputs": [],
      "source": [
        "a = 4\n",
        "b = a + 4"
      ]
    },
    {
      "cell_type": "code",
      "execution_count": null,
      "metadata": {
        "colab": {
          "base_uri": "https://localhost:8080/"
        },
        "id": "lAMvr9D68TFT",
        "outputId": "5048864b-4738-4b1c-8e08-f6499ae77722"
      },
      "outputs": [
        {
          "data": {
            "text/plain": [
              "4"
            ]
          },
          "execution_count": 84,
          "metadata": {},
          "output_type": "execute_result"
        }
      ],
      "source": [
        "a"
      ]
    },
    {
      "cell_type": "code",
      "execution_count": null,
      "metadata": {
        "colab": {
          "base_uri": "https://localhost:8080/"
        },
        "id": "NrywGkHu8Tbw",
        "outputId": "5095be2a-555f-4759-c4c3-7593dfcadf43"
      },
      "outputs": [
        {
          "data": {
            "text/plain": [
              "8"
            ]
          },
          "execution_count": 85,
          "metadata": {},
          "output_type": "execute_result"
        }
      ],
      "source": [
        "b"
      ]
    },
    {
      "cell_type": "code",
      "execution_count": null,
      "metadata": {
        "id": "KtHFllHW8Ts-"
      },
      "outputs": [],
      "source": [
        "a = 4\n",
        "\n",
        "a = a + 4  ### Always the right part computes first and then once value is calculated then the assignment happens."
      ]
    },
    {
      "cell_type": "code",
      "execution_count": null,
      "metadata": {
        "colab": {
          "base_uri": "https://localhost:8080/"
        },
        "id": "h51edh3h8ex3",
        "outputId": "b79b9608-20bb-400b-bfd9-550e6106b1bf"
      },
      "outputs": [
        {
          "data": {
            "text/plain": [
              "8"
            ]
          },
          "execution_count": 88,
          "metadata": {},
          "output_type": "execute_result"
        }
      ],
      "source": [
        "a"
      ]
    },
    {
      "cell_type": "code",
      "execution_count": null,
      "metadata": {
        "id": "2oL7VbRF8ksq"
      },
      "outputs": [],
      "source": [
        "############ Special assignment operators"
      ]
    },
    {
      "cell_type": "code",
      "execution_count": null,
      "metadata": {
        "id": "BzJgMBoR9L8H"
      },
      "outputs": [],
      "source": [
        "## *=, **= /= //="
      ]
    },
    {
      "cell_type": "code",
      "execution_count": null,
      "metadata": {
        "id": "qB9mCfh49XXu"
      },
      "outputs": [],
      "source": [
        "a = 4\n",
        "a += 4"
      ]
    },
    {
      "cell_type": "code",
      "execution_count": null,
      "metadata": {
        "colab": {
          "base_uri": "https://localhost:8080/"
        },
        "id": "EEt29yQQ9axy",
        "outputId": "9c2bb1e1-35e0-445a-de38-d75afcc95fb8"
      },
      "outputs": [
        {
          "data": {
            "text/plain": [
              "8"
            ]
          },
          "execution_count": 92,
          "metadata": {},
          "output_type": "execute_result"
        }
      ],
      "source": [
        "a"
      ]
    },
    {
      "cell_type": "code",
      "execution_count": null,
      "metadata": {
        "id": "9nIyF4HG9bBn"
      },
      "outputs": [],
      "source": [
        "a -= 3"
      ]
    },
    {
      "cell_type": "code",
      "execution_count": null,
      "metadata": {
        "colab": {
          "base_uri": "https://localhost:8080/"
        },
        "id": "aqA-VmVD9vtw",
        "outputId": "3ca49df3-b0a2-465f-8b3c-e4a47369dfa4"
      },
      "outputs": [
        {
          "data": {
            "text/plain": [
              "5"
            ]
          },
          "execution_count": 94,
          "metadata": {},
          "output_type": "execute_result"
        }
      ],
      "source": [
        "a"
      ]
    },
    {
      "cell_type": "code",
      "execution_count": null,
      "metadata": {
        "id": "vCFA2b2F9wSE"
      },
      "outputs": [],
      "source": [
        "a /= 3"
      ]
    },
    {
      "cell_type": "code",
      "execution_count": null,
      "metadata": {
        "colab": {
          "base_uri": "https://localhost:8080/"
        },
        "id": "2FAjEYt69yDg",
        "outputId": "cf336454-44b0-488d-c53e-800650b9f9a0"
      },
      "outputs": [
        {
          "data": {
            "text/plain": [
              "1.6666666666666667"
            ]
          },
          "execution_count": 96,
          "metadata": {},
          "output_type": "execute_result"
        }
      ],
      "source": [
        "a"
      ]
    },
    {
      "cell_type": "code",
      "execution_count": null,
      "metadata": {
        "id": "y6GIti5I9yuq"
      },
      "outputs": [],
      "source": [
        "a **= 3"
      ]
    },
    {
      "cell_type": "code",
      "execution_count": null,
      "metadata": {
        "colab": {
          "base_uri": "https://localhost:8080/"
        },
        "id": "rL5T7RDk90Lo",
        "outputId": "2cbc690f-b0f3-478e-b096-cb3798a64ac6"
      },
      "outputs": [
        {
          "data": {
            "text/plain": [
              "4.629629629629631"
            ]
          },
          "execution_count": 98,
          "metadata": {},
          "output_type": "execute_result"
        }
      ],
      "source": [
        "a"
      ]
    },
    {
      "cell_type": "code",
      "execution_count": null,
      "metadata": {
        "id": "TIVb9dlK91Bb"
      },
      "outputs": [],
      "source": [
        "a = 2\n",
        "a **= 3"
      ]
    },
    {
      "cell_type": "code",
      "execution_count": null,
      "metadata": {
        "colab": {
          "base_uri": "https://localhost:8080/"
        },
        "id": "a7sdGig793v4",
        "outputId": "dba580c2-241e-4065-f043-b189086d1568"
      },
      "outputs": [
        {
          "data": {
            "text/plain": [
              "8"
            ]
          },
          "execution_count": 100,
          "metadata": {},
          "output_type": "execute_result"
        }
      ],
      "source": [
        "a"
      ]
    },
    {
      "cell_type": "code",
      "execution_count": null,
      "metadata": {
        "colab": {
          "base_uri": "https://localhost:8080/"
        },
        "id": "lCXIpo0p94pl",
        "outputId": "b6aaf6b6-3f69-4ba1-dee5-d47d0c35bbde"
      },
      "outputs": [
        {
          "name": "stdout",
          "output_type": "stream",
          "text": [
            "True\n"
          ]
        }
      ],
      "source": [
        "print(True == 1)"
      ]
    },
    {
      "cell_type": "code",
      "execution_count": null,
      "metadata": {
        "colab": {
          "base_uri": "https://localhost:8080/"
        },
        "id": "NfGKvCDNndRB",
        "outputId": "5da21b60-463c-4e0b-a7c3-86d473303b0f"
      },
      "outputs": [
        {
          "name": "stdout",
          "output_type": "stream",
          "text": [
            "True\n"
          ]
        }
      ],
      "source": [
        "print(False == 0)"
      ]
    },
    {
      "cell_type": "code",
      "execution_count": null,
      "metadata": {
        "colab": {
          "base_uri": "https://localhost:8080/"
        },
        "id": "v8DgEKJFnqBy",
        "outputId": "ffac26e7-0a6d-490c-8b4e-bb714a671836"
      },
      "outputs": [
        {
          "name": "stdout",
          "output_type": "stream",
          "text": [
            "True\n",
            "True\n"
          ]
        }
      ],
      "source": [
        "a = -3\n",
        "b = -1\n",
        "c = -1\n",
        "\n",
        "x = a<b+c  #### Here b + c evaluates first and then compare the result of (b + c) with a that is a < (b + c)\n",
        "print(a<b-1)\n",
        "print(x)"
      ]
    },
    {
      "cell_type": "code",
      "execution_count": null,
      "metadata": {
        "id": "rNKVoz56fREg"
      },
      "outputs": [],
      "source": []
    },
    {
      "cell_type": "code",
      "execution_count": null,
      "metadata": {
        "colab": {
          "base_uri": "https://localhost:8080/"
        },
        "id": "ZIh0EfzVoeLw",
        "outputId": "ff6a25ce-27f3-43bd-8244-30443b210589"
      },
      "outputs": [
        {
          "name": "stdout",
          "output_type": "stream",
          "text": [
            "9\n"
          ]
        }
      ],
      "source": [
        "print((3 + 4) // 2 + 6)"
      ]
    },
    {
      "cell_type": "code",
      "execution_count": null,
      "metadata": {
        "colab": {
          "base_uri": "https://localhost:8080/"
        },
        "id": "hKlnhuHqIVL-",
        "outputId": "b8f10dfc-f393-4cd6-b78b-82d94ec9a39b"
      },
      "outputs": [
        {
          "data": {
            "text/plain": [
              "8"
            ]
          },
          "execution_count": 2,
          "metadata": {},
          "output_type": "execute_result"
        }
      ],
      "source": [
        "2 +6"
      ]
    },
    {
      "cell_type": "code",
      "execution_count": null,
      "metadata": {
        "colab": {
          "base_uri": "https://localhost:8080/"
        },
        "id": "9qmgTmj4JDNF",
        "outputId": "4b59527e-5121-4f33-ea2a-322596f2d17b"
      },
      "outputs": [
        {
          "data": {
            "text/plain": [
              "0"
            ]
          },
          "execution_count": 3,
          "metadata": {},
          "output_type": "execute_result"
        }
      ],
      "source": [
        "7 // 8"
      ]
    },
    {
      "cell_type": "code",
      "execution_count": null,
      "metadata": {
        "colab": {
          "base_uri": "https://localhost:8080/"
        },
        "id": "mEg8i4IxJEsP",
        "outputId": "e4325157-cdea-4264-b0bc-2d9b473e76d0"
      },
      "outputs": [
        {
          "name": "stdout",
          "output_type": "stream",
          "text": [
            "5\n"
          ]
        }
      ],
      "source": [
        "n = input()"
      ]
    },
    {
      "cell_type": "code",
      "execution_count": null,
      "metadata": {
        "colab": {
          "base_uri": "https://localhost:8080/"
        },
        "id": "bZIoLoHj5QNu",
        "outputId": "a8d4a3a1-0e22-48ec-ae85-c5e116149dfd"
      },
      "outputs": [
        {
          "name": "stdout",
          "output_type": "stream",
          "text": [
            "5\n"
          ]
        }
      ],
      "source": [
        "print(n)"
      ]
    },
    {
      "cell_type": "code",
      "execution_count": null,
      "metadata": {
        "colab": {
          "base_uri": "https://localhost:8080/"
        },
        "id": "YW1gSaid5SVe",
        "outputId": "74874ccc-18d3-4efd-864a-18cd6d46e461"
      },
      "outputs": [
        {
          "data": {
            "text/plain": [
              "str"
            ]
          },
          "execution_count": 3,
          "metadata": {},
          "output_type": "execute_result"
        }
      ],
      "source": [
        "type(n)"
      ]
    },
    {
      "cell_type": "code",
      "execution_count": null,
      "metadata": {
        "colab": {
          "base_uri": "https://localhost:8080/"
        },
        "id": "i8KxXDhy5URS",
        "outputId": "d94057f7-4f76-4fba-bb7a-ee4ce2f7d983"
      },
      "outputs": [
        {
          "name": "stdout",
          "output_type": "stream",
          "text": [
            "5\n"
          ]
        }
      ],
      "source": [
        "p = int(input())"
      ]
    },
    {
      "cell_type": "code",
      "execution_count": null,
      "metadata": {
        "colab": {
          "base_uri": "https://localhost:8080/"
        },
        "id": "ENcEW67h5Y_Y",
        "outputId": "6a7540d5-51f1-4dbe-d352-c00f3ab47e58"
      },
      "outputs": [
        {
          "data": {
            "text/plain": [
              "int"
            ]
          },
          "execution_count": 5,
          "metadata": {},
          "output_type": "execute_result"
        }
      ],
      "source": [
        "type(p)"
      ]
    },
    {
      "cell_type": "code",
      "execution_count": null,
      "metadata": {
        "id": "yvX9BEVG5aaW"
      },
      "outputs": [],
      "source": [
        "### Logical Operators"
      ]
    },
    {
      "cell_type": "code",
      "execution_count": null,
      "metadata": {
        "id": "pfnkK_wc6haz"
      },
      "outputs": [],
      "source": [
        "## 1. AND Operator"
      ]
    },
    {
      "cell_type": "code",
      "execution_count": null,
      "metadata": {
        "colab": {
          "base_uri": "https://localhost:8080/"
        },
        "id": "-Dq3iXQ06j6m",
        "outputId": "06f6da11-a4f8-43bd-d992-869ecb8586c3"
      },
      "outputs": [
        {
          "data": {
            "text/plain": [
              "True"
            ]
          },
          "execution_count": 8,
          "metadata": {},
          "output_type": "execute_result"
        }
      ],
      "source": [
        "54<= 67"
      ]
    },
    {
      "cell_type": "code",
      "execution_count": null,
      "metadata": {
        "id": "aHpXp23f8K0l"
      },
      "outputs": [],
      "source": [
        "a = 10"
      ]
    },
    {
      "cell_type": "code",
      "execution_count": null,
      "metadata": {
        "colab": {
          "base_uri": "https://localhost:8080/"
        },
        "id": "Y9icLs8d8UYT",
        "outputId": "a69a9736-9b64-4664-c70f-8d804857c925"
      },
      "outputs": [
        {
          "data": {
            "text/plain": [
              "False"
            ]
          },
          "execution_count": 10,
          "metadata": {},
          "output_type": "execute_result"
        }
      ],
      "source": [
        "a > 10"
      ]
    },
    {
      "cell_type": "code",
      "execution_count": null,
      "metadata": {
        "colab": {
          "base_uri": "https://localhost:8080/"
        },
        "id": "UCNi9aNR8VGj",
        "outputId": "855ef70c-e820-4b31-84d5-3c8ebdbd600f"
      },
      "outputs": [
        {
          "data": {
            "text/plain": [
              "False"
            ]
          },
          "execution_count": 11,
          "metadata": {},
          "output_type": "execute_result"
        }
      ],
      "source": [
        "not(a<20)"
      ]
    },
    {
      "cell_type": "code",
      "execution_count": null,
      "metadata": {
        "colab": {
          "base_uri": "https://localhost:8080/"
        },
        "id": "R8BxU7rj82K4",
        "outputId": "8ca9d6a7-aa64-415b-93d6-bb2ab3fad966"
      },
      "outputs": [
        {
          "data": {
            "text/plain": [
              "True"
            ]
          },
          "execution_count": 13,
          "metadata": {},
          "output_type": "execute_result"
        }
      ],
      "source": [
        "(a>0 and a < 20)"
      ]
    },
    {
      "cell_type": "code",
      "execution_count": null,
      "metadata": {
        "colab": {
          "base_uri": "https://localhost:8080/"
        },
        "id": "K8MyVjQP859o",
        "outputId": "fb47a37c-92a2-4d73-c340-bcdfdbf752a9"
      },
      "outputs": [
        {
          "data": {
            "text/plain": [
              "True"
            ]
          },
          "execution_count": 14,
          "metadata": {},
          "output_type": "execute_result"
        }
      ],
      "source": [
        "a >0 or a < 1000"
      ]
    },
    {
      "cell_type": "code",
      "execution_count": null,
      "metadata": {
        "colab": {
          "base_uri": "https://localhost:8080/"
        },
        "id": "NqEkrS8j8_Xu",
        "outputId": "de582fad-6f5e-4a36-9676-0296816be268"
      },
      "outputs": [
        {
          "data": {
            "text/plain": [
              "True"
            ]
          },
          "execution_count": 15,
          "metadata": {},
          "output_type": "execute_result"
        }
      ],
      "source": [
        "(a > 5 and a>7) or (a<5 and a < 7)"
      ]
    },
    {
      "cell_type": "code",
      "execution_count": null,
      "metadata": {
        "id": "nWbVdHHH9VVy"
      },
      "outputs": [],
      "source": [
        "# Control Statements"
      ]
    },
    {
      "cell_type": "code",
      "execution_count": null,
      "metadata": {
        "id": "qZ_42jUO96zO"
      },
      "outputs": [],
      "source": [
        "# Run code based on some conditions"
      ]
    },
    {
      "cell_type": "code",
      "execution_count": null,
      "metadata": {
        "id": "AlHDT6_D9-IS"
      },
      "outputs": [],
      "source": [
        "# IF Condition"
      ]
    },
    {
      "cell_type": "code",
      "execution_count": null,
      "metadata": {
        "colab": {
          "base_uri": "https://localhost:8080/"
        },
        "id": "JnvJJXWW-9kC",
        "outputId": "712368c9-4cab-4351-dafa-43b08a01de12"
      },
      "outputs": [
        {
          "name": "stdout",
          "output_type": "stream",
          "text": [
            "Odd\n"
          ]
        }
      ],
      "source": [
        "n = 5\n",
        "if n %2 == 0:\n",
        "  print(\"Even\")\n",
        "else:\n",
        "  print(\"Odd\")"
      ]
    },
    {
      "cell_type": "code",
      "execution_count": null,
      "metadata": {
        "id": "CtM1DmDK_E5z"
      },
      "outputs": [],
      "source": [
        "# Take a input from the user and print if it is Odd or Even print accordingly."
      ]
    },
    {
      "cell_type": "code",
      "execution_count": null,
      "metadata": {
        "colab": {
          "base_uri": "https://localhost:8080/"
        },
        "id": "Yz2ElNVx_3RA",
        "outputId": "b6de7b70-7ad5-4726-b0fb-e488ecf71581"
      },
      "outputs": [
        {
          "name": "stdout",
          "output_type": "stream",
          "text": [
            "6\n",
            "Even\n"
          ]
        }
      ],
      "source": [
        "n = int(input())\n",
        "if n % 2 == 0:\n",
        "  print(\"Even\")\n",
        "else:\n",
        "  print(\"Odd\")"
      ]
    },
    {
      "cell_type": "code",
      "execution_count": null,
      "metadata": {
        "colab": {
          "base_uri": "https://localhost:8080/"
        },
        "id": "G_0NK_dX_9xx",
        "outputId": "cfc12167-b456-425d-82f3-9932973b02aa"
      },
      "outputs": [
        {
          "name": "stdout",
          "output_type": "stream",
          "text": [
            "0\n",
            "1\n",
            "2\n",
            "5\n"
          ]
        }
      ],
      "source": [
        "print(\"0\")\n",
        "if 54 < 60:\n",
        "  print(\"1\")\n",
        "  print(\"2\")\n",
        "else:\n",
        "  print(\"3\")\n",
        "  print(\"4\")\n",
        "print(\"5\")"
      ]
    },
    {
      "cell_type": "code",
      "execution_count": null,
      "metadata": {
        "id": "ldRNVhA8AhZc"
      },
      "outputs": [],
      "source": [
        "## Notes - Explanation"
      ]
    },
    {
      "cell_type": "code",
      "execution_count": null,
      "metadata": {
        "id": "1Bht3fBPBMKQ"
      },
      "outputs": [],
      "source": [
        "# if condition:\n",
        "  ## Execute when condition is true\n",
        "# else:\n",
        "  ## Execute when condition is false"
      ]
    },
    {
      "cell_type": "code",
      "execution_count": null,
      "metadata": {
        "colab": {
          "base_uri": "https://localhost:8080/"
        },
        "id": "9kyfXWr6BVMn",
        "outputId": "fc48c7b8-9506-4ffd-a1e4-025fa2a67a4f"
      },
      "outputs": [
        {
          "name": "stdout",
          "output_type": "stream",
          "text": [
            "16\n",
            "B\n",
            "C\n"
          ]
        }
      ],
      "source": [
        "a = 4\n",
        "result = a **2\n",
        "print(result)\n",
        "if result > 25:\n",
        "  print(\"A\")\n",
        "else:\n",
        "  print(\"B\")\n",
        "print(\"C\")"
      ]
    },
    {
      "cell_type": "code",
      "execution_count": null,
      "metadata": {
        "colab": {
          "base_uri": "https://localhost:8080/"
        },
        "id": "vJBgCe55CCE8",
        "outputId": "adf3e3b7-39ea-4c78-c414-c995a79e9d88"
      },
      "outputs": [
        {
          "name": "stdout",
          "output_type": "stream",
          "text": [
            "25\n",
            "B\n",
            "C\n"
          ]
        }
      ],
      "source": [
        "a = 5\n",
        "result = a **2\n",
        "print(result)\n",
        "if result > 25:\n",
        "  print(\"A\")\n",
        "else:\n",
        "  print(\"B\")\n",
        "print(\"C\")"
      ]
    },
    {
      "cell_type": "code",
      "execution_count": null,
      "metadata": {
        "colab": {
          "base_uri": "https://localhost:8080/"
        },
        "id": "46WNsIZACOwk",
        "outputId": "266c28bf-9417-4251-8305-48b256f5115b"
      },
      "outputs": [
        {
          "name": "stdout",
          "output_type": "stream",
          "text": [
            "36\n",
            "A\n",
            "C\n"
          ]
        }
      ],
      "source": [
        "a = 6\n",
        "result = a **2\n",
        "print(result)\n",
        "if result > 25:\n",
        "  print(\"A\")\n",
        "else:\n",
        "  print(\"B\")\n",
        "print(\"C\")"
      ]
    },
    {
      "cell_type": "code",
      "execution_count": null,
      "metadata": {
        "id": "_bGU8cN0CP9K"
      },
      "outputs": [],
      "source": [
        "# If can exist without else block as well"
      ]
    },
    {
      "cell_type": "code",
      "execution_count": null,
      "metadata": {
        "colab": {
          "base_uri": "https://localhost:8080/"
        },
        "id": "senZ4Ay6Dpyb",
        "outputId": "6775d4c0-7f8a-41b7-bfb3-960334e82e72"
      },
      "outputs": [
        {
          "name": "stdout",
          "output_type": "stream",
          "text": [
            "A\n",
            "B\n"
          ]
        }
      ],
      "source": [
        "a = 10\n",
        "if a == 10:\n",
        "  print(\"A\")\n",
        "print(\"B\")"
      ]
    },
    {
      "cell_type": "code",
      "execution_count": null,
      "metadata": {
        "id": "HuzFXlA2DuQK"
      },
      "outputs": [],
      "source": [
        "## Else block can not exist without IF block"
      ]
    },
    {
      "cell_type": "code",
      "execution_count": null,
      "metadata": {
        "id": "BCOgtJiMDxzX"
      },
      "outputs": [],
      "source": [
        "# Write a program that takes student name, marks as input and print Pass if marks are than 35 else print  You can do better"
      ]
    },
    {
      "cell_type": "code",
      "execution_count": null,
      "metadata": {
        "colab": {
          "base_uri": "https://localhost:8080/"
        },
        "id": "Pu8xpS_EEMDa",
        "outputId": "0c00563f-ad7d-4622-bb3d-be2e9101296d"
      },
      "outputs": [
        {
          "name": "stdout",
          "output_type": "stream",
          "text": [
            "49\n",
            "Pass\n"
          ]
        }
      ],
      "source": [
        "marks = int(input())\n",
        "if marks > 35:\n",
        "  print(\"Pass\")\n",
        "else:\n",
        "  print(\"You can do better\")"
      ]
    },
    {
      "cell_type": "code",
      "execution_count": null,
      "metadata": {
        "colab": {
          "base_uri": "https://localhost:8080/"
        },
        "id": "CNxh4T88EYzb",
        "outputId": "f2de338d-2b25-45dd-eaf0-c2188966c612"
      },
      "outputs": [
        {
          "name": "stdout",
          "output_type": "stream",
          "text": [
            "34\n",
            "C\n"
          ]
        }
      ],
      "source": [
        "marks = int(input())\n",
        "if marks > 95:\n",
        "  print(\"A\")\n",
        "elif marks >= 70 and marks <= 90:\n",
        "  print(\"B\")\n",
        "elif marks > 30 and marks < 69:\n",
        "  print(\"C\")\n",
        "elif marks < 30:\n",
        "  print(\"You can do better\")"
      ]
    },
    {
      "cell_type": "code",
      "execution_count": null,
      "metadata": {
        "colab": {
          "base_uri": "https://localhost:8080/"
        },
        "id": "_ffCEhvyF254",
        "outputId": "01ad5500-8117-45b6-9b42-b58e5a612872"
      },
      "outputs": [
        {
          "name": "stdout",
          "output_type": "stream",
          "text": [
            "B\n"
          ]
        }
      ],
      "source": [
        "a = 5\n",
        "if a > 7:\n",
        "  print(\"A\")\n",
        "elif a > 2:\n",
        "  print(\"B\")\n",
        "else:\n",
        "  print(\"C\")"
      ]
    },
    {
      "cell_type": "code",
      "execution_count": null,
      "metadata": {
        "colab": {
          "base_uri": "https://localhost:8080/"
        },
        "id": "uQIXVIo8H8fV",
        "outputId": "8b71f17d-08a8-430b-ba67-a7a10c81d112"
      },
      "outputs": [
        {
          "name": "stdout",
          "output_type": "stream",
          "text": [
            "B\n"
          ]
        }
      ],
      "source": [
        "a = 5\n",
        "if a > 7:\n",
        "  print(\"A\")\n",
        "elif a > 2:\n",
        "  print(\"B\")\n",
        "elif a > 3:\n",
        "  print(\"D\")\n",
        "else:\n",
        "  print(\"C\")"
      ]
    },
    {
      "cell_type": "code",
      "execution_count": null,
      "metadata": {
        "colab": {
          "base_uri": "https://localhost:8080/"
        },
        "id": "bOJesEwDIT4M",
        "outputId": "e6cb4e69-e766-4a24-fef1-2e6ec00018a5"
      },
      "outputs": [
        {
          "name": "stdout",
          "output_type": "stream",
          "text": [
            "36\n",
            "C\n"
          ]
        }
      ],
      "source": [
        "#  Extra knowledge to write better code\n",
        "\n",
        "marks = int(input())\n",
        "if marks > 95:\n",
        "  print(\"A\")\n",
        "elif marks >= 70:\n",
        "  print(\"B\")\n",
        "elif marks > 30:\n",
        "  print(\"C\")\n",
        "elif marks < 30:\n",
        "  print(\"You can do better\")"
      ]
    },
    {
      "cell_type": "code",
      "execution_count": null,
      "metadata": {
        "colab": {
          "base_uri": "https://localhost:8080/"
        },
        "id": "wMHA28xaJKVA",
        "outputId": "040cec21-8501-4d05-8040-f9f93299957b"
      },
      "outputs": [
        {
          "name": "stdout",
          "output_type": "stream",
          "text": [
            "D\n"
          ]
        }
      ],
      "source": [
        "a = 10\n",
        "if a > 15:\n",
        "  print(\"A\")\n",
        "elif a < 3:\n",
        "  print(\"B\")\n",
        "elif a > 20:\n",
        "  print(\"C\")\n",
        "else:\n",
        "  print(\"D\")"
      ]
    },
    {
      "cell_type": "code",
      "execution_count": null,
      "metadata": {
        "colab": {
          "base_uri": "https://localhost:8080/"
        },
        "id": "6-0EsOSbKg9T",
        "outputId": "2c084a8e-1c10-460b-dd6d-46460a2207da"
      },
      "outputs": [
        {
          "data": {
            "text/plain": [
              "3"
            ]
          },
          "execution_count": 1,
          "metadata": {},
          "output_type": "execute_result"
        }
      ],
      "source": [
        "3 ** 2 ** 0 ## almost all of the operators follow left to right precedence but only power operator follows right to left precedenc"
      ]
    },
    {
      "cell_type": "code",
      "execution_count": null,
      "metadata": {
        "id": "suxtNOi_LIcl"
      },
      "outputs": [],
      "source": [
        " ### Control Statements class 2"
      ]
    },
    {
      "cell_type": "code",
      "execution_count": null,
      "metadata": {
        "id": "smLvOLHEVeFG"
      },
      "outputs": [],
      "source": [
        "# q1 Take integer as input and check whether it is positive or negaive, consider 0 as positive number"
      ]
    },
    {
      "cell_type": "code",
      "execution_count": null,
      "metadata": {
        "colab": {
          "base_uri": "https://localhost:8080/"
        },
        "id": "hZI0NW0AWTFS",
        "outputId": "5c4199fc-5378-48f2-d996-707890aebc2f"
      },
      "outputs": [
        {
          "name": "stdout",
          "output_type": "stream",
          "text": [
            "-1\n",
            "Negative\n"
          ]
        }
      ],
      "source": [
        "n = int(input())\n",
        "if n>= 0:\n",
        "  print(\"Positive\")\n",
        "else:\n",
        "  print(\"Negative\")"
      ]
    },
    {
      "cell_type": "code",
      "execution_count": null,
      "metadata": {
        "id": "9YxP7zVTWZA3"
      },
      "outputs": [],
      "source": [
        "# q2 take an integer as input and check whether it is positive or negative, or equal to zero"
      ]
    },
    {
      "cell_type": "code",
      "execution_count": null,
      "metadata": {
        "colab": {
          "base_uri": "https://localhost:8080/"
        },
        "id": "WCkOzjMLXM0Y",
        "outputId": "d3b0c9f5-8e05-4961-9577-bd171ac2413d"
      },
      "outputs": [
        {
          "name": "stdout",
          "output_type": "stream",
          "text": [
            "2\n",
            "Positive\n"
          ]
        }
      ],
      "source": [
        "n = int(input())\n",
        "if n == 0 :\n",
        "  print(\"Zero\")\n",
        "elif n >0:\n",
        "  print(\"Positive\")\n",
        "else:\n",
        "  print(\"Negative\")\n"
      ]
    },
    {
      "cell_type": "code",
      "execution_count": null,
      "metadata": {
        "id": "jZ8P8MOWXdsi"
      },
      "outputs": [],
      "source": [
        "# Q3 Take an integer as input\n",
        "# if (n **5)%40 is greater than 15, then print \"Black\" else print \"Blue\"\n",
        "\n",
        "# Note: if input is not a non-negative single digit number print \"Invalid\""
      ]
    },
    {
      "cell_type": "code",
      "execution_count": null,
      "metadata": {
        "colab": {
          "base_uri": "https://localhost:8080/"
        },
        "id": "98u6fpXfY1oW",
        "outputId": "32e3e346-5c03-4b5b-939a-3f633f273898"
      },
      "outputs": [
        {
          "name": "stdout",
          "output_type": "stream",
          "text": [
            "4\n",
            "Black\n"
          ]
        }
      ],
      "source": [
        "n = int(input())\n",
        "if not(n < 10 and n >= 0):\n",
        "  print(\"invalid\")\n",
        "elif (n ** 5)%40 > 15:\n",
        "  print(\"Black\")\n",
        "else:\n",
        "  print(\"Blue\")"
      ]
    },
    {
      "cell_type": "code",
      "execution_count": null,
      "metadata": {
        "id": "JQWYInXRjTHB"
      },
      "outputs": [],
      "source": [
        "# q4 Take a string as feedback from user\n",
        "# If the feedback is empty, print \"Please provide feedback next time\"\n",
        "# If feedback is any of \"Great\", \"Super\", \"Awesome\"\n",
        "# then print \"Thanks for your feedback\"\n",
        "# In other cases print \"See you again\""
      ]
    },
    {
      "cell_type": "code",
      "execution_count": null,
      "metadata": {
        "colab": {
          "base_uri": "https://localhost:8080/"
        },
        "id": "jYJqo6LWohkS",
        "outputId": "92c65797-93b6-40e9-c98b-6214dc0f7711"
      },
      "outputs": [
        {
          "name": "stdout",
          "output_type": "stream",
          "text": [
            "\n",
            "Please provide feedback next time\n"
          ]
        }
      ],
      "source": [
        "s = input()\n",
        "if not s:\n",
        "  print(\"Please provide feedback next time\")\n",
        "elif s == \"Great\" or s == \"Super\" or s == \"Awesome\":\n",
        "  print(\"Thanks for your feedback\")\n",
        "else:\n",
        "  print(\"See you again\")"
      ]
    },
    {
      "cell_type": "code",
      "execution_count": null,
      "metadata": {
        "id": "cD-0SrdWpBl8"
      },
      "outputs": [],
      "source": [
        "## Fizz Buzz\n"
      ]
    },
    {
      "cell_type": "code",
      "execution_count": null,
      "metadata": {
        "id": "Q9eHD_6drt8m"
      },
      "outputs": [],
      "source": [
        "# Take an integer as input\n",
        "# if n is multiple of only 3 print Fizz\n",
        "# if n is multiple of only 5 print Buzz\n",
        "# else if n is multiple of both 3 and 5 print FizzBuzz"
      ]
    },
    {
      "cell_type": "code",
      "execution_count": null,
      "metadata": {
        "colab": {
          "base_uri": "https://localhost:8080/"
        },
        "id": "reH7lTNasEha",
        "outputId": "84c35560-4f76-4a4b-d137-2fd3ec772f16"
      },
      "outputs": [
        {
          "name": "stdout",
          "output_type": "stream",
          "text": [
            "5\n",
            "Buzz\n"
          ]
        }
      ],
      "source": [
        "n = int(input())\n",
        "if n %3 == 0  and n % 5 == 0:\n",
        "  print(\"FizzBuzz\")\n",
        "elif n %3 == 0 :\n",
        "  print(\"Fizz\")\n",
        "elif n %5 == 0:\n",
        "  print(\"Buzz\")\n",
        "else:\n",
        "  print(\"None of the above\")"
      ]
    },
    {
      "cell_type": "code",
      "execution_count": null,
      "metadata": {
        "id": "2NFOW_FasUMY"
      },
      "outputs": [],
      "source": []
    },
    {
      "cell_type": "markdown",
      "metadata": {
        "id": "9psMjWWcw7lt"
      },
      "source": [
        "Q5: Take three inputs from a user which are marks in science, english and maths. Assign the stream according to the following criteria (Bad process : - ):\n",
        "\n",
        "If marks in science > 90 or marks in each of the 3 subjects are greater than or equal to 75 - print \"A\"\n",
        "\n",
        "if marks in each of the 3 subjects are greater than or equal to 60 and less than 75 -- print \"B\"\n",
        "\n",
        "if marks in each of the 3 subjects are less than 60 -- print \"C\"\n",
        "\n",
        "Learnings:\n",
        "\n",
        "Understanding the question is 50% of the problem solved.\n",
        "\n",
        "Patiently reading the question\n"
      ]
    },
    {
      "cell_type": "code",
      "execution_count": null,
      "metadata": {
        "colab": {
          "base_uri": "https://localhost:8080/"
        },
        "id": "JlybGBZkwza8",
        "outputId": "6dbc3712-7394-40ca-9299-fa99e0e9b004"
      },
      "outputs": [
        {
          "name": "stdout",
          "output_type": "stream",
          "text": [
            "65\n",
            "65\n",
            "65\n",
            "B\n"
          ]
        }
      ],
      "source": [
        "science = int(input())\n",
        "english = int(input())\n",
        "maths = int(input())\n",
        "\n",
        "\n",
        "if science > 90 or (science >= 75 and english >= 75 and maths >= 75):\n",
        "  print(\"A\")\n",
        "elif (science >= 60 and science < 75) and (maths >= 60 and maths < 75) and (english >= 60 and english < 75):\n",
        "  print(\"B\")\n",
        "elif science < 60 and maths < 60 and english < 60:\n",
        "  print(\"C\")"
      ]
    },
    {
      "cell_type": "code",
      "execution_count": null,
      "metadata": {
        "colab": {
          "base_uri": "https://localhost:8080/"
        },
        "id": "Ue59PFNwyYqI",
        "outputId": "05cf3b07-daba-49fc-dd30-589736c8e115"
      },
      "outputs": [
        {
          "name": "stdout",
          "output_type": "stream",
          "text": [
            "True\n"
          ]
        }
      ],
      "source": [
        "n = 5\n",
        "if n > 3 and n < 20:\n",
        "  print(True)\n",
        "else:\n",
        "  print(False)"
      ]
    },
    {
      "cell_type": "code",
      "execution_count": null,
      "metadata": {
        "colab": {
          "base_uri": "https://localhost:8080/"
        },
        "id": "LNEQHQyn2dYH",
        "outputId": "b7cda21e-73c5-44df-b6b4-b01632378577"
      },
      "outputs": [
        {
          "name": "stdout",
          "output_type": "stream",
          "text": [
            "True\n"
          ]
        }
      ],
      "source": [
        "print( 20 > n > 3)   ### We can also rewrite this way."
      ]
    },
    {
      "cell_type": "code",
      "execution_count": null,
      "metadata": {
        "colab": {
          "base_uri": "https://localhost:8080/"
        },
        "id": "G28rudN32jR7",
        "outputId": "c84d940b-8322-4dff-a6e6-193b93d3122a"
      },
      "outputs": [
        {
          "name": "stdout",
          "output_type": "stream",
          "text": [
            "80\n",
            "70\n",
            "60\n"
          ]
        }
      ],
      "source": [
        "## using above such syntax\n",
        "science = int(input())\n",
        "english = int(input())\n",
        "maths = int(input())\n",
        "\n",
        "\n",
        "if science > 90 or (science >= 75 and english >= 75 and maths >= 75):\n",
        "  print(\"A\")\n",
        "elif (65 <= science  and 65 <= maths  and 65 <= english):\n",
        "  print(\"B\")\n",
        "elif science < 60 and maths < 60 and english < 60:\n",
        "  print(\"C\")"
      ]
    },
    {
      "cell_type": "code",
      "execution_count": null,
      "metadata": {
        "id": "ly6Y32ly3Hbs"
      },
      "outputs": [],
      "source": [
        "##### To add elements to an array, we use .append function like arr.append"
      ]
    },
    {
      "cell_type": "code",
      "execution_count": null,
      "metadata": {
        "id": "WMtk4kRrTMOp"
      },
      "outputs": [],
      "source": [
        "# Problem Solving - 1"
      ]
    },
    {
      "cell_type": "code",
      "execution_count": null,
      "metadata": {
        "colab": {
          "base_uri": "https://localhost:8080/"
        },
        "id": "TxSi-F4W1S5U",
        "outputId": "9c853707-52f8-4391-fe12-eb928426fd02"
      },
      "outputs": [
        {
          "name": "stdout",
          "output_type": "stream",
          "text": [
            "a b c d\n"
          ]
        }
      ],
      "source": [
        "print(\"a\", \"b\", \"c\", \"d\")"
      ]
    },
    {
      "cell_type": "code",
      "execution_count": null,
      "metadata": {
        "colab": {
          "base_uri": "https://localhost:8080/"
        },
        "id": "_FxS_3bERNvI",
        "outputId": "3ba18446-b7cb-4811-b1c9-77ad0f873fbd"
      },
      "outputs": [
        {
          "name": "stdout",
          "output_type": "stream",
          "text": [
            "ab\n"
          ]
        }
      ],
      "source": [
        "print(\"ab\")"
      ]
    },
    {
      "cell_type": "code",
      "execution_count": null,
      "metadata": {
        "colab": {
          "base_uri": "https://localhost:8080/"
        },
        "id": "0RO9ZNIoRPTB",
        "outputId": "3c586cae-91ed-4107-8ea8-94e3c2da764f"
      },
      "outputs": [
        {
          "name": "stdout",
          "output_type": "stream",
          "text": [
            "35\n"
          ]
        }
      ],
      "source": [
        "print(str(3)+str(5))"
      ]
    },
    {
      "cell_type": "code",
      "execution_count": null,
      "metadata": {
        "id": "jBRA8MTYRwTU"
      },
      "outputs": [],
      "source": [
        "# BODMAS Rule  --> Q8 = (3 + 4) // 2+ 6  -->Here first Brackets values will be evaluated to 7 and 7 // 2 will be evaluated and then to the result 6 will be added."
      ]
    },
    {
      "cell_type": "code",
      "execution_count": null,
      "metadata": {
        "colab": {
          "base_uri": "https://localhost:8080/"
        },
        "id": "br2SkeDCPmUA",
        "outputId": "a9e4d322-45fb-4fae-a94c-8c54840bd37c"
      },
      "outputs": [
        {
          "data": {
            "text/plain": [
              "9"
            ]
          },
          "execution_count": 2,
          "metadata": {},
          "output_type": "execute_result"
        }
      ],
      "source": [
        "(3 + 4) // 2 + 6"
      ]
    },
    {
      "cell_type": "code",
      "execution_count": null,
      "metadata": {
        "colab": {
          "base_uri": "https://localhost:8080/"
        },
        "id": "hSIYAz70PoUF",
        "outputId": "6fe597a7-1c29-4aa0-ceda-e24960457282"
      },
      "outputs": [
        {
          "data": {
            "text/plain": [
              "True"
            ]
          },
          "execution_count": 3,
          "metadata": {},
          "output_type": "execute_result"
        }
      ],
      "source": [
        "True == 1"
      ]
    },
    {
      "cell_type": "code",
      "execution_count": null,
      "metadata": {
        "colab": {
          "base_uri": "https://localhost:8080/"
        },
        "id": "Z9IaP9EXQnkn",
        "outputId": "007a2644-e899-473c-984b-6757eecd7709"
      },
      "outputs": [
        {
          "data": {
            "text/plain": [
              "1"
            ]
          },
          "execution_count": 4,
          "metadata": {},
          "output_type": "execute_result"
        }
      ],
      "source": [
        "int(True)"
      ]
    },
    {
      "cell_type": "code",
      "execution_count": null,
      "metadata": {
        "colab": {
          "base_uri": "https://localhost:8080/"
        },
        "id": "LKVVBYl3QogQ",
        "outputId": "782114b3-6b6b-45cb-9d9b-2418e20c9914"
      },
      "outputs": [
        {
          "data": {
            "text/plain": [
              "True"
            ]
          },
          "execution_count": 5,
          "metadata": {},
          "output_type": "execute_result"
        }
      ],
      "source": [
        "False == 0"
      ]
    },
    {
      "cell_type": "code",
      "execution_count": null,
      "metadata": {
        "colab": {
          "base_uri": "https://localhost:8080/"
        },
        "id": "bZfNp74gQp_j",
        "outputId": "2d3e16b7-e200-433e-b220-5a6efc7d0cd9"
      },
      "outputs": [
        {
          "data": {
            "text/plain": [
              "4"
            ]
          },
          "execution_count": 11,
          "metadata": {},
          "output_type": "execute_result"
        }
      ],
      "source": [
        "234 % 10 #### Gives the last digit each time divided by 10 remainder is the last digit."
      ]
    },
    {
      "cell_type": "code",
      "execution_count": null,
      "metadata": {
        "colab": {
          "base_uri": "https://localhost:8080/"
        },
        "id": "Nia4tC9Fhvt_",
        "outputId": "bd38df83-6463-4b4a-ff08-5a3795b07279"
      },
      "outputs": [
        {
          "data": {
            "text/plain": [
              "23"
            ]
          },
          "execution_count": 12,
          "metadata": {},
          "output_type": "execute_result"
        }
      ],
      "source": [
        "234 // 10  #### Gives the digits except last digit."
      ]
    },
    {
      "cell_type": "code",
      "execution_count": null,
      "metadata": {
        "colab": {
          "base_uri": "https://localhost:8080/"
        },
        "id": "5UPrlH6tiCZF",
        "outputId": "17726f4a-0d84-4ec6-a066-b0f77536cce0"
      },
      "outputs": [
        {
          "name": "stdout",
          "output_type": "stream",
          "text": [
            "2\n"
          ]
        }
      ],
      "source": [
        "A = 10\n",
        "count = 0\n",
        "A //= 2\n",
        "for i in range(1, A+1):\n",
        "    if A % i == 0:\n",
        "        count += 1\n",
        "print(count)"
      ]
    },
    {
      "cell_type": "code",
      "execution_count": null,
      "metadata": {
        "id": "gKjFxmnssDgj"
      },
      "outputs": [],
      "source": [
        "# Class ------ Number System and Basic Maths ---"
      ]
    },
    {
      "cell_type": "code",
      "execution_count": null,
      "metadata": {
        "id": "iuI_rxqCBW4a"
      },
      "outputs": [],
      "source": []
    },
    {
      "cell_type": "markdown",
      "metadata": {
        "id": "a84V3MGPGCb7"
      },
      "source": [
        "General Base (b)\n",
        "\n",
        "(721)base b\n",
        "\n",
        "= 7 x b^2 + 2 x b^1 + 1 x b^0\n",
        "\n"
      ]
    },
    {
      "cell_type": "code",
      "execution_count": null,
      "metadata": {
        "colab": {
          "base_uri": "https://localhost:8080/"
        },
        "id": "pbyCYaysGQZw",
        "outputId": "bd29e11f-1ee7-4563-dea9-25e84bc4112b"
      },
      "outputs": [
        {
          "name": "stdout",
          "output_type": "stream",
          "text": [
            "21\n"
          ]
        }
      ],
      "source": [
        "print(sum(range(0, 7)))"
      ]
    },
    {
      "cell_type": "code",
      "execution_count": null,
      "metadata": {
        "id": "mz1j1qM3H9Er"
      },
      "outputs": [],
      "source": [
        "# 001111 == > 0 x 2^5 + 0 x 2 ^4 + 1 x 2 ^3 + 1 x 2 ^2 + 1 x 2^1 + 1x2^0\n",
        "# => 8 + 4 + 1 + 1\n",
        "# = 12 + 1 + 1\n",
        "# = 14"
      ]
    },
    {
      "cell_type": "code",
      "execution_count": null,
      "metadata": {
        "id": "ZYFc5K4zUhoX"
      },
      "outputs": [],
      "source": [
        "# Observation --> Leading zeros has no significanse to the value in binary form"
      ]
    },
    {
      "cell_type": "code",
      "execution_count": null,
      "metadata": {
        "id": "5mZtcI0cApE3"
      },
      "outputs": [],
      "source": []
    },
    {
      "cell_type": "markdown",
      "metadata": {
        "id": "4u47Q5AKAqGT"
      },
      "source": [
        "(1110010)(2) --> 2 ^ 6 + 2 ^5 + 2 ^4 + 2 ^1\n"
      ]
    },
    {
      "cell_type": "code",
      "execution_count": null,
      "metadata": {
        "id": "7oMgeieQA31Z"
      },
      "outputs": [],
      "source": []
    },
    {
      "cell_type": "markdown",
      "metadata": {
        "id": "GpM-4xTEB6E9"
      },
      "source": [
        "22 --> closed or nearest square is 16 + 6\n",
        "\n",
        "16 --> can be written as 2 ^4\n",
        "6 --> 4 + 2\n",
        "4 --> 2 ^2\n",
        "2 --> 2 ^ 1\n",
        "\n",
        "so we have 2 ^4 + 2 ^2 + 2^1 --> equation 1\n",
        "\n",
        "4 3 2 1 0 --> powers so we can also write it as\n",
        "1 0 1 1 0 --> 2 ^3 is not present in the equation 1 so we have put 0 there and 0 th power is also not these so zero .\n",
        "\n",
        "so finally 22(2) is --> 10110"
      ]
    },
    {
      "cell_type": "code",
      "execution_count": null,
      "metadata": {
        "id": "DEDDrYopCgFv"
      },
      "outputs": [],
      "source": []
    },
    {
      "cell_type": "markdown",
      "metadata": {
        "id": "w8SjCDkBDhH8"
      },
      "source": [
        "29 --> closed is that is in terms of 2 powers is 16 that is 2 ^4\n",
        "29 --> 16 + 13\n",
        "16 --> 2 ^ 4\n",
        "13 --> 2 ^ 3 = 8 + 4 + 1\n",
        "8 --> 2 ^3\n",
        "4 --> 2 ^2\n",
        "1 --> 2 ^ 0\n",
        "\n",
        "so finally --> 2 ^ 4 + 2 ^3 + 2 ^2 + 2 ^ 0\n",
        "\n",
        "so answer would be 1 1 1 0 1"
      ]
    },
    {
      "cell_type": "code",
      "execution_count": null,
      "metadata": {
        "id": "_6Cqk8W8EADo"
      },
      "outputs": [],
      "source": []
    },
    {
      "cell_type": "markdown",
      "metadata": {
        "id": "8s3NjncNG6X_"
      },
      "source": [
        "Method 2 -->\n",
        "\n",
        "Continously divide the value by 2 and write down remainder.\n",
        "\n",
        "now take the remainders from bottom to top."
      ]
    },
    {
      "cell_type": "code",
      "execution_count": null,
      "metadata": {
        "id": "ribZ0x1aHIMn"
      },
      "outputs": [],
      "source": [
        "# In python to find binary of a number we will use\n",
        "\n",
        "# bin(5) --> binary equavalent of a number"
      ]
    },
    {
      "cell_type": "code",
      "execution_count": null,
      "metadata": {
        "id": "lAb2YkQxrR6p"
      },
      "outputs": [],
      "source": [
        "# Log functions"
      ]
    },
    {
      "cell_type": "code",
      "execution_count": null,
      "metadata": {
        "id": "raaIkCUEr2zk"
      },
      "outputs": [],
      "source": [
        "# 2 ^ 6 = 64"
      ]
    },
    {
      "cell_type": "code",
      "execution_count": null,
      "metadata": {
        "id": "4ZFdSatYr6RV"
      },
      "outputs": [],
      "source": [
        "# log2 (64) = 6"
      ]
    },
    {
      "cell_type": "code",
      "execution_count": null,
      "metadata": {
        "id": "PUuS7BgTr-gQ"
      },
      "outputs": [],
      "source": [
        "# Log is nothing but how many times can we raise 2 to the power to get remainder as  1 that is called log function."
      ]
    },
    {
      "cell_type": "code",
      "execution_count": null,
      "metadata": {
        "id": "19-NZptpsIsc"
      },
      "outputs": [],
      "source": []
    },
    {
      "cell_type": "markdown",
      "metadata": {
        "id": "Phr_yzm9s9D8"
      },
      "source": [
        "# **Range Functions **"
      ]
    },
    {
      "cell_type": "code",
      "execution_count": null,
      "metadata": {
        "id": "gAJ2DTOPtFtJ"
      },
      "outputs": [],
      "source": []
    },
    {
      "cell_type": "markdown",
      "metadata": {
        "id": "FMQoHHAbtJIR"
      },
      "source": [
        "[ --> When you have this braces (square brackets) it means the value is included\n",
        "\n",
        "( --> When you have parantheses it means the value is excluded\n",
        "\n",
        "\n",
        "Examples:\n",
        "\n",
        "1. [1,10] --> this gives values from 1, 2, 3, 4, 5, 6, 7, 8, 9, 10.\n",
        "\n",
        "2. (1, 10) --> this gives values from 2, 3, 4, 5, 6, 7, 8, 9\n",
        "\n",
        "3. [5, 7)  --> this gives values from 5, 6 because [ is included and ) is exluded so we are not taking 7.\n",
        "\n",
        "4. (7, 10] --> this gives values from 8, 9, 10\n",
        "\n",
        "Count of integers in a range\n",
        "\n",
        "[1, 10] --> 10\n",
        "\n",
        "[ 2, 8] --> 7\n",
        "\n",
        "[a, b] --> b-a+1 --> formula\n",
        "\n",
        "(a, b) --> (b-a+1)-2 --> formula --> b-a-a --> same\n",
        "\n",
        "[a, b) --> b-a\n",
        "\n",
        "(a, b] --> b-a\n"
      ]
    },
    {
      "cell_type": "code",
      "execution_count": null,
      "metadata": {
        "id": "ynFgePFDwYuQ"
      },
      "outputs": [],
      "source": []
    },
    {
      "cell_type": "markdown",
      "metadata": {
        "id": "q4lSawJKwZ0u"
      },
      "source": [
        "## Range method in Python"
      ]
    },
    {
      "cell_type": "code",
      "execution_count": null,
      "metadata": {
        "id": "G8xehsiPwbnP"
      },
      "outputs": [],
      "source": []
    },
    {
      "cell_type": "markdown",
      "metadata": {
        "id": "Cb9-Hmd1wjHd"
      },
      "source": [
        "Range method\n",
        "\n",
        "syntax -->\n",
        "\n",
        "  range(1, 10)\n",
        "\n",
        "  the first value 1 is included and 10 that is last value is excluded."
      ]
    },
    {
      "cell_type": "code",
      "execution_count": null,
      "metadata": {
        "colab": {
          "base_uri": "https://localhost:8080/"
        },
        "id": "43Qa0_ENwqgp",
        "outputId": "317752a6-768c-4947-f05f-77faae8493ed"
      },
      "outputs": [
        {
          "data": {
            "text/plain": [
              "[7, 8, 9, 10]"
            ]
          },
          "execution_count": 8,
          "metadata": {},
          "output_type": "execute_result"
        }
      ],
      "source": [
        "list(range(7, 11))"
      ]
    },
    {
      "cell_type": "code",
      "execution_count": null,
      "metadata": {
        "colab": {
          "base_uri": "https://localhost:8080/"
        },
        "id": "z54vXol6w2HR",
        "outputId": "1198068a-0145-40dc-f41c-865ca62eaf82"
      },
      "outputs": [
        {
          "data": {
            "text/plain": [
              "[2]"
            ]
          },
          "execution_count": 9,
          "metadata": {},
          "output_type": "execute_result"
        }
      ],
      "source": [
        "list(range(2,3))"
      ]
    },
    {
      "cell_type": "code",
      "execution_count": null,
      "metadata": {
        "id": "wtTTRlsjw7wG"
      },
      "outputs": [],
      "source": [
        "# Q1. log6(36^2)\n",
        "\n",
        "# log6 (1296) = 6 ^ 4\n",
        "\n",
        "# so here  the answer is 4"
      ]
    },
    {
      "cell_type": "code",
      "execution_count": null,
      "metadata": {
        "id": "IELfpm_b1bl_"
      },
      "outputs": [],
      "source": []
    },
    {
      "cell_type": "markdown",
      "metadata": {
        "id": "9A2D1tKV35C2"
      },
      "source": [
        "# Q2. What is the result (in binary) of multiplying the binary number 1100 by the binary number 10?\n",
        "The correct answer is: 11000\n",
        "\n",
        "Explantion:\n",
        "\n",
        "1100 = 4 + 8 = 12 in decimal.\n",
        "10 = 2 in decimal.\n",
        "12 * 2 = 24\n",
        "Converting 24 to decimal, we get 11000."
      ]
    },
    {
      "cell_type": "markdown",
      "metadata": {
        "id": "7mGlT9b546xW"
      },
      "source": [
        "Q3. If a binary number ends in 1 (like 1001 or 111011), then it is\n",
        "\n",
        "Answer --> Always ODD"
      ]
    },
    {
      "cell_type": "code",
      "execution_count": null,
      "metadata": {
        "id": "M6aS04BX4-YH"
      },
      "outputs": [],
      "source": []
    },
    {
      "cell_type": "markdown",
      "metadata": {
        "id": "NmIZj8la5z2K"
      },
      "source": [
        "Q4 : Here're some base-10 logarithms:\n",
        "\n",
        "log10(1000) = 3\n",
        "\n",
        "log10(49323) ≈ 4.69\n",
        "\n",
        "log10(100000) = 5\n",
        "\n",
        "log10(333333) ≈ 5.52\n",
        "\n",
        "Which statement is true?\n",
        "\n",
        "Answer : The base-10 log of a number, if rounded down, is 1 less than the number of digits of the number."
      ]
    },
    {
      "cell_type": "code",
      "execution_count": null,
      "metadata": {
        "id": "bb3OnxR855rf"
      },
      "outputs": [],
      "source": []
    },
    {
      "cell_type": "markdown",
      "metadata": {
        "id": "MCjUKtgZ7lNL"
      },
      "source": [
        "## **WHILE LOOP**"
      ]
    },
    {
      "cell_type": "code",
      "execution_count": null,
      "metadata": {
        "id": "wEf-khc07n41"
      },
      "outputs": [],
      "source": [
        "# While condition is true keep looping"
      ]
    },
    {
      "cell_type": "code",
      "execution_count": null,
      "metadata": {
        "colab": {
          "base_uri": "https://localhost:8080/"
        },
        "id": "OLn9eNJT8lXR",
        "outputId": "c6ad7e9e-76d5-48f3-c9e9-421f6468114f"
      },
      "outputs": [
        {
          "name": "stdout",
          "output_type": "stream",
          "text": [
            "1\n",
            "2\n",
            "3\n",
            "4\n",
            "5\n"
          ]
        }
      ],
      "source": [
        "n = 1\n",
        "while n <= 5:\n",
        "  print(n)\n",
        "  n = n + 1"
      ]
    },
    {
      "cell_type": "code",
      "execution_count": null,
      "metadata": {
        "colab": {
          "base_uri": "https://localhost:8080/"
        },
        "id": "PPKVvR-V9LGn",
        "outputId": "62102e61-5407-4e7a-b679-9800b85e1c3f"
      },
      "outputs": [
        {
          "name": "stdout",
          "output_type": "stream",
          "text": [
            "1\n",
            "2\n",
            "3\n",
            "4\n",
            "5\n",
            "The value of c  5 6\n"
          ]
        }
      ],
      "source": [
        "n = 1\n",
        "c = 0\n",
        "\n",
        "while n <= 5:\n",
        "  n = n + 1\n",
        "  c = c + 1\n",
        "  print(c)\n",
        "\n",
        "\n",
        "print(\"The value of c \", c, n)"
      ]
    },
    {
      "cell_type": "code",
      "execution_count": null,
      "metadata": {
        "colab": {
          "base_uri": "https://localhost:8080/"
        },
        "id": "hg_yS1hw_3iO",
        "outputId": "5072cdb9-f89e-469b-8094-9d018c3d13ef"
      },
      "outputs": [
        {
          "name": "stdout",
          "output_type": "stream",
          "text": [
            "1\n",
            "3\n",
            "5\n",
            "7\n"
          ]
        }
      ],
      "source": [
        "## Take an integer from user and print all the alternate numbers\n",
        "\n",
        "n = 1\n",
        "while n <= 7:\n",
        "  print(n)\n",
        "  n = n + 2"
      ]
    },
    {
      "cell_type": "code",
      "execution_count": null,
      "metadata": {
        "colab": {
          "base_uri": "https://localhost:8080/"
        },
        "id": "L0UOu9jeB1h2",
        "outputId": "b3980b49-4263-4bc1-80a3-29a7c3e5e4b3"
      },
      "outputs": [
        {
          "name": "stdout",
          "output_type": "stream",
          "text": [
            "a\n",
            "b\n",
            "c\n"
          ]
        }
      ],
      "source": [
        "print(\"a\")\n",
        "print(\"b\")\n",
        "print(\"c\")"
      ]
    },
    {
      "cell_type": "code",
      "execution_count": null,
      "metadata": {
        "id": "xjE0Sh_dD1q4"
      },
      "outputs": [],
      "source": [
        "## default print statement takes \"\\n\" = new line as default end statement\n",
        "# but we can provide specific end as mentioned\n"
      ]
    },
    {
      "cell_type": "code",
      "execution_count": null,
      "metadata": {
        "colab": {
          "base_uri": "https://localhost:8080/"
        },
        "id": "kzAnkMrED-X6",
        "outputId": "e28c1a08-8413-4669-e1cf-f631668a2ab8"
      },
      "outputs": [
        {
          "name": "stdout",
          "output_type": "stream",
          "text": [
            "a b c "
          ]
        }
      ],
      "source": [
        "print(\"a\", end=\" \") ### Here i am specifying space( ) as specific end so it is printing in the same line separated by space( )\n",
        "print(\"b\", end=\" \")\n",
        "print(\"c\", end=\" \")"
      ]
    },
    {
      "cell_type": "code",
      "execution_count": null,
      "metadata": {
        "colab": {
          "base_uri": "https://localhost:8080/"
        },
        "id": "CfzQUFWwEDe7",
        "outputId": "991eee6e-e84c-48fe-805a-0fbaf269c041"
      },
      "outputs": [
        {
          "name": "stdout",
          "output_type": "stream",
          "text": [
            "a,b,c,"
          ]
        }
      ],
      "source": [
        "print(\"a\", end=\",\") ### Here i am specifying space( ) as specific end so it is printing in the same line separated by space( )\n",
        "print(\"b\", end=\",\")\n",
        "print(\"c\", end=\",\")"
      ]
    },
    {
      "cell_type": "code",
      "execution_count": null,
      "metadata": {
        "colab": {
          "base_uri": "https://localhost:8080/"
        },
        "id": "ZLcIQOEcEYP3",
        "outputId": "50483d2e-0e94-4224-a779-e002526a686a"
      },
      "outputs": [
        {
          "name": "stdout",
          "output_type": "stream",
          "text": [
            "a\n",
            "b\n",
            "c\n"
          ]
        }
      ],
      "source": [
        "print(\"a\", end=\"\\n\") ### Here i am specifying space( ) as specific end so it is printing in the same line separated by space( )\n",
        "print(\"b\", end=\"\\n\")\n",
        "print(\"c\", end=\"\\n\")"
      ]
    },
    {
      "cell_type": "code",
      "execution_count": null,
      "metadata": {
        "colab": {
          "base_uri": "https://localhost:8080/"
        },
        "id": "AYLyw6zUEbXU",
        "outputId": "a47453f3-b5ae-42a2-a921-b099db374e3f"
      },
      "outputs": [
        {
          "name": "stdout",
          "output_type": "stream",
          "text": [
            "a##b__c%%"
          ]
        }
      ],
      "source": [
        "print(\"a\", end=\"##\") ### Here i am specifying space( ) as specific end so it is printing in the same line separated by space( )\n",
        "print(\"b\", end=\"__\")\n",
        "print(\"c\", end=\"%%\")"
      ]
    },
    {
      "cell_type": "code",
      "execution_count": null,
      "metadata": {
        "colab": {
          "base_uri": "https://localhost:8080/",
          "height": 35
        },
        "id": "-T__IvTVE0f0",
        "outputId": "e995d850-62a8-4ddf-e81f-29e52462ee9f"
      },
      "outputs": [
        {
          "data": {
            "application/vnd.google.colaboratory.intrinsic+json": {
              "type": "string"
            },
            "text/plain": [
              "'\\nGiven a number \\n\\nprint its multiplication table till its 5th multiple - each multiple separated by a space \\n\\n\\n\\n'"
            ]
          },
          "execution_count": 30,
          "metadata": {},
          "output_type": "execute_result"
        }
      ],
      "source": [
        "'''\n",
        "Given a number\n",
        "\n",
        "print its multiplication table till its 5th multiple - each multiple separated by a space\n",
        "\n",
        "\n",
        "\n",
        "'''"
      ]
    },
    {
      "cell_type": "code",
      "execution_count": null,
      "metadata": {
        "colab": {
          "base_uri": "https://localhost:8080/"
        },
        "id": "QyjXwjg1KBCp",
        "outputId": "14f81662-598d-4041-a430-066f028b30ff"
      },
      "outputs": [
        {
          "name": "stdout",
          "output_type": "stream",
          "text": [
            "5 10 15 20 25 "
          ]
        }
      ],
      "source": [
        "n = 5\n",
        "i = 1\n",
        "while  i <=5:\n",
        "  print(i * n, end=' ')\n",
        "  i = i + 1"
      ]
    },
    {
      "cell_type": "code",
      "execution_count": null,
      "metadata": {
        "colab": {
          "base_uri": "https://localhost:8080/"
        },
        "id": "7BcyGpnSKNeN",
        "outputId": "12801ddf-7c10-4a5c-e8c4-6081ba9cbaa7"
      },
      "outputs": [
        {
          "name": "stdout",
          "output_type": "stream",
          "text": [
            "5  X  1  =  5\n",
            "5  X  2  =  10\n",
            "5  X  3  =  15\n",
            "5  X  4  =  20\n",
            "5  X  5  =  25\n",
            "5  X  6  =  30\n",
            "5  X  7  =  35\n",
            "5  X  8  =  40\n",
            "5  X  9  =  45\n",
            "5  X  10  =  50\n"
          ]
        }
      ],
      "source": [
        "n = 5\n",
        "i = 1\n",
        "while i <=10:\n",
        "  print(n, ' X ', i, ' = ', n * i)\n",
        "  i = i + 1"
      ]
    },
    {
      "cell_type": "code",
      "execution_count": null,
      "metadata": {
        "id": "chMJydAPLoFs"
      },
      "outputs": [],
      "source": []
    },
    {
      "cell_type": "markdown",
      "metadata": {
        "id": "tOPaQM4xR5EA"
      },
      "source": [
        "## **Nested Loop**"
      ]
    },
    {
      "cell_type": "code",
      "execution_count": null,
      "metadata": {
        "id": "ppVQq79wR6o9"
      },
      "outputs": [],
      "source": [
        "# Multiplication table"
      ]
    },
    {
      "cell_type": "code",
      "execution_count": null,
      "metadata": {
        "colab": {
          "base_uri": "https://localhost:8080/"
        },
        "id": "RDCtmXCETm5h",
        "outputId": "c9e4a0f3-deee-42ac-85ad-992ac66458f9"
      },
      "outputs": [
        {
          "name": "stdout",
          "output_type": "stream",
          "text": [
            "1 2 3 4 5 6 7 8 9 10 \n",
            "\n",
            "2 4 6 8 10 12 14 16 18 20 \n",
            "\n",
            "3 6 9 12 15 18 21 24 27 30 \n",
            "\n",
            "4 8 12 16 20 24 28 32 36 40 \n",
            "\n",
            "5 10 15 20 25 30 35 40 45 50 \n",
            "\n",
            "6 12 18 24 30 36 42 48 54 60 \n",
            "\n",
            "7 14 21 28 35 42 49 56 63 70 \n",
            "\n",
            "8 16 24 32 40 48 56 64 72 80 \n",
            "\n",
            "9 18 27 36 45 54 63 72 81 90 \n",
            "\n",
            "10 20 30 40 50 60 70 80 90 100 \n",
            "\n"
          ]
        }
      ],
      "source": [
        "n = 6\n",
        "i = 1\n",
        "while i <= 10:\n",
        "  j = 1\n",
        "  while j <= 10:\n",
        "    print(i * j, end=\" \")\n",
        "    j += 1\n",
        "  print(\"\\n\")\n",
        "  i += 1\n"
      ]
    },
    {
      "cell_type": "code",
      "execution_count": null,
      "metadata": {
        "id": "Yw6jplJoT5JY"
      },
      "outputs": [],
      "source": [
        "# You take a number of test cases, denoted by T as input.For each test case, you should take integers N as input. Your task is to calculate and print the sum of the digits of the given number N."
      ]
    },
    {
      "cell_type": "code",
      "execution_count": null,
      "metadata": {
        "colab": {
          "base_uri": "https://localhost:8080/"
        },
        "id": "BrFcNeXk76kx",
        "outputId": "02b9c159-8434-4e62-860b-0ab348d77ed8"
      },
      "outputs": [
        {
          "name": "stdout",
          "output_type": "stream",
          "text": [
            "2\n",
            "5\n",
            "5\n",
            "1001\n",
            "2\n"
          ]
        }
      ],
      "source": [
        "n = int(input())\n",
        "for i in range(n):\n",
        "    value = int(input())\n",
        "    sum = 0\n",
        "    while value:\n",
        "        dig = value % 10\n",
        "        value //= 10\n",
        "        sum += dig\n",
        "    print(sum)\n"
      ]
    },
    {
      "cell_type": "markdown",
      "metadata": {
        "id": "vYyYOw4y7B3-"
      },
      "source": [
        "## while loops"
      ]
    },
    {
      "cell_type": "code",
      "execution_count": null,
      "metadata": {
        "id": "imJJ-I5f7D2g"
      },
      "outputs": [],
      "source": []
    },
    {
      "cell_type": "code",
      "execution_count": null,
      "metadata": {
        "id": "E9y-vT3VfTeq"
      },
      "outputs": [],
      "source": []
    },
    {
      "cell_type": "code",
      "execution_count": null,
      "metadata": {
        "id": "rY8Gu6zPfTns"
      },
      "outputs": [],
      "source": []
    },
    {
      "cell_type": "code",
      "execution_count": null,
      "metadata": {
        "id": "l6SLQF5IfTrU"
      },
      "outputs": [],
      "source": []
    },
    {
      "cell_type": "code",
      "execution_count": null,
      "metadata": {
        "id": "YjpLZByBfTuS"
      },
      "outputs": [],
      "source": []
    },
    {
      "cell_type": "markdown",
      "metadata": {
        "id": "Cu6iVt5ofUD0"
      },
      "source": [
        "Range"
      ]
    },
    {
      "cell_type": "code",
      "execution_count": null,
      "metadata": {
        "colab": {
          "base_uri": "https://localhost:8080/"
        },
        "id": "axbaosjNfUvB",
        "outputId": "dbeca365-067e-48a4-d8ae-85e5c69d7b6b"
      },
      "outputs": [
        {
          "data": {
            "text/plain": [
              "[]"
            ]
          },
          "execution_count": 3,
          "metadata": {},
          "output_type": "execute_result"
        }
      ],
      "source": [
        "list(range(-5))  ### give empty because the starting value 0  so since it starts from 0 and increment by 1 so -5 is not between those values, so not printing."
      ]
    },
    {
      "cell_type": "code",
      "execution_count": null,
      "metadata": {
        "colab": {
          "base_uri": "https://localhost:8080/"
        },
        "id": "FvbftM17fXvO",
        "outputId": "b2a95e84-6a10-4800-b694-6fb5e6e23012"
      },
      "outputs": [
        {
          "name": "stdout",
          "output_type": "stream",
          "text": [
            "[5, 4, 3]\n"
          ]
        }
      ],
      "source": [
        "print(list(range(5, 2,-1)))"
      ]
    },
    {
      "cell_type": "code",
      "execution_count": null,
      "metadata": {
        "colab": {
          "base_uri": "https://localhost:8080/"
        },
        "id": "RJqr9xAThqnU",
        "outputId": "4b5cdd32-4df7-4abd-c138-bc49fbfabcdb"
      },
      "outputs": [
        {
          "name": "stdout",
          "output_type": "stream",
          "text": [
            "[-1, -2, -3, -4, -5, -6, -7, -8]\n"
          ]
        }
      ],
      "source": [
        "print(list(range(-1,-9,-1)))"
      ]
    },
    {
      "cell_type": "code",
      "execution_count": null,
      "metadata": {
        "colab": {
          "base_uri": "https://localhost:8080/"
        },
        "id": "X9B9-rhtiLta",
        "outputId": "9c1ff9d7-0def-4d1a-fd5c-8b3d0369ae1e"
      },
      "outputs": [
        {
          "name": "stdout",
          "output_type": "stream",
          "text": [
            "0\n",
            "1\n",
            "2\n",
            "3\n",
            "4\n",
            "i 4\n"
          ]
        }
      ],
      "source": [
        "for i in range(5):\n",
        "  print(i)\n",
        "\n",
        "\n",
        "print(\"i\",i)"
      ]
    },
    {
      "cell_type": "code",
      "execution_count": null,
      "metadata": {
        "colab": {
          "base_uri": "https://localhost:8080/"
        },
        "id": "LnVwtILwjHuE",
        "outputId": "4ae968f7-1af5-4aa0-d10a-48d16601666d"
      },
      "outputs": [
        {
          "name": "stdout",
          "output_type": "stream",
          "text": [
            "2\n",
            "4\n",
            "6\n",
            "8\n"
          ]
        }
      ],
      "source": [
        "## print all the even numbers from 1 to n\n",
        "\n",
        "for i in range(2, 10,2): ## here step size os 2\n",
        "  print(i)"
      ]
    },
    {
      "cell_type": "code",
      "execution_count": null,
      "metadata": {
        "colab": {
          "base_uri": "https://localhost:8080/"
        },
        "id": "_x-XJtVWjwWE",
        "outputId": "e84597a6-6d2a-42c2-e46e-8dadaf3a1d40"
      },
      "outputs": [
        {
          "name": "stdout",
          "output_type": "stream",
          "text": [
            "1\n",
            "3\n",
            "5\n",
            "7\n",
            "9\n"
          ]
        }
      ],
      "source": [
        "## print odd numbers\n",
        "for i in range(1, 10, 2):\n",
        "  print(i)"
      ]
    },
    {
      "cell_type": "code",
      "execution_count": null,
      "metadata": {
        "id": "PSj0yyP2kbiO"
      },
      "outputs": [],
      "source": []
    },
    {
      "cell_type": "markdown",
      "metadata": {
        "id": "GoEYTJOD1Ua3"
      },
      "source": [
        "# FOR LOOPS"
      ]
    },
    {
      "cell_type": "code",
      "execution_count": null,
      "metadata": {
        "colab": {
          "base_uri": "https://localhost:8080/"
        },
        "id": "DphI3QY31WGi",
        "outputId": "f0fb7c79-a5be-4e44-c849-ce966578acf1"
      },
      "outputs": [
        {
          "name": "stdout",
          "output_type": "stream",
          "text": [
            "[0, 1, 2, 3, 4, 5, 6, 7, 8]\n"
          ]
        }
      ],
      "source": [
        "print(list(range(9))) ###Starting value is default 0 and jump value is 1"
      ]
    },
    {
      "cell_type": "code",
      "execution_count": null,
      "metadata": {
        "colab": {
          "base_uri": "https://localhost:8080/"
        },
        "id": "IAaas4mh3ym0",
        "outputId": "aab7e2ab-2cea-404e-e26f-9b35687171ab"
      },
      "outputs": [
        {
          "name": "stdout",
          "output_type": "stream",
          "text": [
            "[]\n"
          ]
        }
      ],
      "source": [
        "print(list(range(0)))"
      ]
    },
    {
      "cell_type": "code",
      "execution_count": null,
      "metadata": {
        "colab": {
          "base_uri": "https://localhost:8080/"
        },
        "id": "HJTnYYuY4HNq",
        "outputId": "3598719a-bcec-43c1-feca-7e7d18c6992b"
      },
      "outputs": [
        {
          "name": "stdout",
          "output_type": "stream",
          "text": [
            "[-1, 0]\n"
          ]
        }
      ],
      "source": [
        "print(list(range(-1, 1)))"
      ]
    },
    {
      "cell_type": "code",
      "execution_count": null,
      "metadata": {
        "colab": {
          "base_uri": "https://localhost:8080/"
        },
        "id": "ymf8ZEC54Kq5",
        "outputId": "7afe319e-6634-48e7-a4e7-f97286b9698a"
      },
      "outputs": [
        {
          "data": {
            "text/plain": [
              "[5, 4, 3]"
            ]
          },
          "execution_count": 3,
          "metadata": {},
          "output_type": "execute_result"
        }
      ],
      "source": [
        "list(range(5, 2, -1)) ## Negative Jump Size"
      ]
    },
    {
      "cell_type": "code",
      "execution_count": null,
      "metadata": {
        "id": "dxy6DFjqCBfc"
      },
      "outputs": [],
      "source": [
        "### Print all the numbers from 1 to N using for loop"
      ]
    },
    {
      "cell_type": "code",
      "execution_count": null,
      "metadata": {
        "colab": {
          "base_uri": "https://localhost:8080/"
        },
        "id": "sEXFzYuYDADH",
        "outputId": "eaaf17bc-dd16-465e-8502-92b5f60b3f47"
      },
      "outputs": [
        {
          "name": "stdout",
          "output_type": "stream",
          "text": [
            "0\n",
            "1\n",
            "2\n",
            "3\n",
            "4\n",
            "5\n",
            "6\n",
            "7\n",
            "8\n",
            "9\n",
            "10\n",
            "11\n",
            "12\n",
            "13\n",
            "14\n",
            "15\n",
            "16\n",
            "17\n",
            "18\n",
            "19\n"
          ]
        }
      ],
      "source": [
        "for i in range(20):\n",
        "  print(i)"
      ]
    },
    {
      "cell_type": "code",
      "execution_count": null,
      "metadata": {
        "colab": {
          "base_uri": "https://localhost:8080/"
        },
        "id": "5gG7Z3WfDDtX",
        "outputId": "cf920e8f-523f-4dd1-df3b-a7b034a18b59"
      },
      "outputs": [
        {
          "name": "stdout",
          "output_type": "stream",
          "text": [
            "5 5 5 5 "
          ]
        }
      ],
      "source": [
        "for j in range(5, 1, -1):\n",
        "  print(5, end=' ')"
      ]
    },
    {
      "cell_type": "code",
      "execution_count": null,
      "metadata": {
        "colab": {
          "base_uri": "https://localhost:8080/"
        },
        "id": "xR5zTevPL-6n",
        "outputId": "289436bb-efe4-4b2a-c906-2969040e442b"
      },
      "outputs": [
        {
          "name": "stdout",
          "output_type": "stream",
          "text": [
            "7\n",
            "6\n",
            "5\n",
            "4\n",
            "3\n",
            "2\n",
            "1\n"
          ]
        }
      ],
      "source": [
        "n = 7\n",
        "for j in range(n):\n",
        "  print(n-j)"
      ]
    },
    {
      "cell_type": "code",
      "execution_count": null,
      "metadata": {
        "colab": {
          "base_uri": "https://localhost:8080/"
        },
        "id": "-HCqI0ljN-Fw",
        "outputId": "cc683e9b-4a70-4215-a131-3a3532ac41ad"
      },
      "outputs": [
        {
          "name": "stdout",
          "output_type": "stream",
          "text": [
            "50\n"
          ]
        }
      ],
      "source": [
        " n = int(input())"
      ]
    },
    {
      "cell_type": "code",
      "execution_count": null,
      "metadata": {
        "colab": {
          "base_uri": "https://localhost:8080/"
        },
        "id": "cz70_QjDOsnz",
        "outputId": "a10e17d2-dd61-42f2-da48-568d1a812314"
      },
      "outputs": [
        {
          "name": "stdout",
          "output_type": "stream",
          "text": [
            "1225\n"
          ]
        }
      ],
      "source": [
        "sum = 0\n",
        "for i in range(n):\n",
        "  sum += i\n",
        "print(sum)"
      ]
    },
    {
      "cell_type": "code",
      "execution_count": null,
      "metadata": {
        "colab": {
          "background_save": true
        },
        "id": "NbYogpFSEjHf",
        "outputId": "61608aea-49b5-403a-8f96-bf5af247d549"
      },
      "outputs": [
        {
          "data": {
            "text/plain": [
              "2"
            ]
          },
          "execution_count": 6,
          "metadata": {},
          "output_type": "execute_result"
        }
      ],
      "source": [
        "3%5"
      ]
    },
    {
      "cell_type": "code",
      "execution_count": null,
      "metadata": {
        "colab": {
          "base_uri": "https://localhost:8080/"
        },
        "id": "CWyHR00LOxkh",
        "outputId": "0bf06ea1-84b6-4a59-fcbd-1a8cf3e26b71"
      },
      "outputs": [
        {
          "name": "stdout",
          "output_type": "stream",
          "text": [
            "2\n",
            "4\n",
            "1\n",
            "3\n",
            "5\n",
            "5\n"
          ]
        }
      ],
      "source": [
        "a = 0\n",
        "while True:\n",
        "  a = a + 1\n",
        "  a %= 5\n",
        "  a += 1\n",
        "  print(a)\n",
        "  if a == 5:\n",
        "    break\n",
        "print(a)"
      ]
    },
    {
      "cell_type": "code",
      "execution_count": null,
      "metadata": {
        "colab": {
          "base_uri": "https://localhost:8080/"
        },
        "id": "3xq-8gM7_-En",
        "outputId": "cdd9ae25-d670-422d-a2b6-b8ed97c40646"
      },
      "outputs": [
        {
          "name": "stdout",
          "output_type": "stream",
          "text": [
            "3\n",
            "1\n",
            "4\n",
            "2\n",
            "5\n",
            "5\n"
          ]
        }
      ],
      "source": [
        "a = 0\n",
        "while True:\n",
        "  a = a + 2\n",
        "  a %= 5\n",
        "  a += 1\n",
        "  print(a)\n",
        "  if a == 5:\n",
        "    break\n",
        "print(a)"
      ]
    },
    {
      "cell_type": "code",
      "execution_count": null,
      "metadata": {
        "id": "R1lEj6eSDG1j"
      },
      "outputs": [],
      "source": []
    },
    {
      "cell_type": "markdown",
      "source": [
        "## **Problem Solving 2 **"
      ],
      "metadata": {
        "id": "VaepgfLViwUg"
      }
    },
    {
      "cell_type": "code",
      "source": [
        "# decimal to binary"
      ],
      "metadata": {
        "id": "zpuhcDH7izY1"
      },
      "execution_count": null,
      "outputs": []
    },
    {
      "cell_type": "code",
      "source": [
        "bin(10)"
      ],
      "metadata": {
        "colab": {
          "base_uri": "https://localhost:8080/",
          "height": 35
        },
        "id": "q5MfFf3ejhO5",
        "outputId": "302bedf9-f267-4dae-96be-e0166354506c"
      },
      "execution_count": null,
      "outputs": [
        {
          "output_type": "execute_result",
          "data": {
            "text/plain": [
              "'0b1010'"
            ],
            "application/vnd.google.colaboratory.intrinsic+json": {
              "type": "string"
            }
          },
          "metadata": {},
          "execution_count": 2
        }
      ]
    },
    {
      "cell_type": "code",
      "source": [
        "bin(15)"
      ],
      "metadata": {
        "colab": {
          "base_uri": "https://localhost:8080/",
          "height": 35
        },
        "id": "efIncjaKjh5n",
        "outputId": "b2033769-e50a-4a9a-aa0a-fd4874e925ee"
      },
      "execution_count": null,
      "outputs": [
        {
          "output_type": "execute_result",
          "data": {
            "text/plain": [
              "'0b1111'"
            ],
            "application/vnd.google.colaboratory.intrinsic+json": {
              "type": "string"
            }
          },
          "metadata": {},
          "execution_count": 3
        }
      ]
    },
    {
      "cell_type": "code",
      "source": [
        "# binary to decimal"
      ],
      "metadata": {
        "id": "qkiwiqA5jjhz"
      },
      "execution_count": null,
      "outputs": []
    },
    {
      "cell_type": "code",
      "source": [
        "int('1111', 2)"
      ],
      "metadata": {
        "colab": {
          "base_uri": "https://localhost:8080/"
        },
        "id": "qxMeWUlsk7ML",
        "outputId": "980f994d-23dc-4e02-d732-7dba4a2c1183"
      },
      "execution_count": null,
      "outputs": [
        {
          "output_type": "execute_result",
          "data": {
            "text/plain": [
              "15"
            ]
          },
          "metadata": {},
          "execution_count": 8
        }
      ]
    },
    {
      "cell_type": "code",
      "source": [
        "## To get last digit of a number just take the modulo of the number\n",
        "\n",
        "num = 153\n",
        "print(\"last digit = \", num % 10)"
      ],
      "metadata": {
        "colab": {
          "base_uri": "https://localhost:8080/"
        },
        "id": "gQbAm9Skk-e0",
        "outputId": "bf228298-1e69-4a3c-96c0-c008146deff4"
      },
      "execution_count": null,
      "outputs": [
        {
          "output_type": "stream",
          "name": "stdout",
          "text": [
            "last digit =  3\n"
          ]
        }
      ]
    },
    {
      "cell_type": "code",
      "source": [
        "## to get the remaining digits of a number\n",
        "\n",
        "num = 153\n",
        "print(\"remaining digits = \", num // 10)"
      ],
      "metadata": {
        "colab": {
          "base_uri": "https://localhost:8080/"
        },
        "id": "tnzDkaFASGaJ",
        "outputId": "5f784ffd-6eb6-46f1-b57f-13cbe95093dc"
      },
      "execution_count": null,
      "outputs": [
        {
          "output_type": "stream",
          "name": "stdout",
          "text": [
            "remaining digits =  15\n"
          ]
        }
      ]
    },
    {
      "cell_type": "code",
      "source": [
        "-2 // 2\n"
      ],
      "metadata": {
        "colab": {
          "base_uri": "https://localhost:8080/"
        },
        "id": "KqJrkN1tSOCO",
        "outputId": "8606e2dc-7133-4e74-d6c6-c8a6bac6f410"
      },
      "execution_count": null,
      "outputs": [
        {
          "output_type": "execute_result",
          "data": {
            "text/plain": [
              "-1"
            ]
          },
          "metadata": {},
          "execution_count": 2
        }
      ]
    },
    {
      "cell_type": "code",
      "source": [
        "## print the following output using for loop 1, 4, 7, 10, 15\n",
        "\n",
        "for i in range(6):\n",
        "  if i == 5:\n",
        "    print(i*3 + 1, end=\"\")\n",
        "  else:\n",
        "    print(i * 3 + 1, end=\", \")"
      ],
      "metadata": {
        "colab": {
          "base_uri": "https://localhost:8080/"
        },
        "id": "xAQdMfH24zIs",
        "outputId": "a7f445bf-fee1-418a-9558-62034e93b0bb"
      },
      "execution_count": null,
      "outputs": [
        {
          "output_type": "stream",
          "name": "stdout",
          "text": [
            "1, 4, 7, 10, 13, 16"
          ]
        }
      ]
    },
    {
      "cell_type": "code",
      "source": [
        "## print the following exact output using while loop.\n",
        "## ouptu - 1, 3, 7, 13, 21, 31, 43\n",
        "\n",
        "v = 1\n",
        "i = 0\n",
        "while i <= 6:\n",
        "  v += 2 * i\n",
        "  print(v)\n",
        "  i += 1\n"
      ],
      "metadata": {
        "colab": {
          "base_uri": "https://localhost:8080/"
        },
        "id": "vZ4yhWyxEVaH",
        "outputId": "8a7fa23e-d7f7-420f-b12c-a5ee0e9abd27"
      },
      "execution_count": null,
      "outputs": [
        {
          "output_type": "stream",
          "name": "stdout",
          "text": [
            "1\n",
            "3\n",
            "7\n",
            "13\n",
            "21\n",
            "31\n",
            "43\n"
          ]
        }
      ]
    },
    {
      "cell_type": "code",
      "source": [
        "# Problem Description\n",
        "\n",
        "# You are given an integer N you need to print all the Prime Numbers between 1 and N.\n",
        "\n",
        "# Prime numbers are numbers that have only 2 factors: 1 and themselves. For example, the first 5 prime numbers are 2, 3, 5, 7, and 11.\n",
        "\n"
      ],
      "metadata": {
        "id": "0mam-y5UHUZ5"
      },
      "execution_count": null,
      "outputs": []
    },
    {
      "cell_type": "code",
      "source": [
        "def main():\n",
        "    # YOUR CODE GOES HERE\n",
        "    # Please take input and print output to standard input/output (stdin/stdout)\n",
        "    # E.g. 'input()/raw_input()' for input & 'print' for output\n",
        "    n = int(input())\n",
        "    for i in range(2, n):\n",
        "        prime = 1\n",
        "        for j in range(2, i):\n",
        "            if i % j == 0:\n",
        "                prime = 0\n",
        "                break;\n",
        "        if prime : print(i)\n",
        "    return 0\n",
        "\n",
        "if __name__ == '__main__':\n",
        "    main()"
      ],
      "metadata": {
        "colab": {
          "base_uri": "https://localhost:8080/"
        },
        "id": "1o_yshAxJGpG",
        "outputId": "6beb29fa-526c-42a8-f72a-0d1853cc1bd4"
      },
      "execution_count": null,
      "outputs": [
        {
          "output_type": "stream",
          "name": "stdout",
          "text": [
            "50\n",
            "2\n",
            "3\n",
            "5\n",
            "7\n",
            "11\n",
            "13\n",
            "17\n",
            "19\n",
            "23\n",
            "29\n",
            "31\n",
            "37\n",
            "41\n",
            "43\n",
            "47\n"
          ]
        }
      ]
    },
    {
      "cell_type": "code",
      "source": [],
      "metadata": {
        "id": "-Qy7fKpfJLCx"
      },
      "execution_count": null,
      "outputs": []
    },
    {
      "cell_type": "markdown",
      "source": [
        "# **JUMP STATEMENTS**"
      ],
      "metadata": {
        "id": "f9818UG9JSZh"
      }
    },
    {
      "cell_type": "code",
      "source": [
        "n = 10"
      ],
      "metadata": {
        "id": "pAzCqPYzJUxo"
      },
      "execution_count": null,
      "outputs": []
    },
    {
      "cell_type": "code",
      "source": [
        "i = 1\n",
        "while i <= 10:\n",
        "  if i == 5:\n",
        "    i += 2\n",
        "    continue\n",
        "  print(i, end=\" \")\n",
        "  i += 2"
      ],
      "metadata": {
        "colab": {
          "base_uri": "https://localhost:8080/"
        },
        "id": "EwrprCRRJpI4",
        "outputId": "a4d15d66-4be2-4d65-8412-aefaed35f1ee"
      },
      "execution_count": null,
      "outputs": [
        {
          "output_type": "stream",
          "name": "stdout",
          "text": [
            "1 3 7 9 "
          ]
        }
      ]
    },
    {
      "cell_type": "code",
      "source": [
        "# break statement"
      ],
      "metadata": {
        "id": "g-fbFOh8J2YR"
      },
      "execution_count": null,
      "outputs": []
    },
    {
      "cell_type": "code",
      "source": [
        "i = 1\n",
        "while i < 10:\n",
        "  if i == 5:\n",
        "    break;\n",
        "  print(i, end=\" \")\n",
        "  i += 1\n",
        "print(\"Hello\")"
      ],
      "metadata": {
        "colab": {
          "base_uri": "https://localhost:8080/"
        },
        "id": "EOebEoG8bWMj",
        "outputId": "ed08d887-c213-488c-e6c3-e32e9974bf61"
      },
      "execution_count": null,
      "outputs": [
        {
          "output_type": "stream",
          "name": "stdout",
          "text": [
            "1 2 3 4 Hello\n"
          ]
        }
      ]
    },
    {
      "cell_type": "code",
      "source": [],
      "metadata": {
        "id": "uWeFXVmHbg4L"
      },
      "execution_count": null,
      "outputs": []
    },
    {
      "cell_type": "markdown",
      "source": [
        "# Nested For loops"
      ],
      "metadata": {
        "id": "0qKdqLi7exnR"
      }
    },
    {
      "cell_type": "code",
      "source": [
        "## GCD --> Greatest common divisor"
      ],
      "metadata": {
        "id": "QLvx_tn4e0v7"
      },
      "execution_count": null,
      "outputs": []
    },
    {
      "cell_type": "code",
      "source": [
        "# HCF --> Highest common factors"
      ],
      "metadata": {
        "id": "5CZrw_0Fg393"
      },
      "execution_count": null,
      "outputs": []
    },
    {
      "cell_type": "code",
      "source": [
        "# GCD (16, 24) <= 16"
      ],
      "metadata": {
        "id": "dvaJhVmQhpiD"
      },
      "execution_count": null,
      "outputs": []
    },
    {
      "cell_type": "code",
      "source": [
        "# GCD (a, b) <= min(a, b)"
      ],
      "metadata": {
        "id": "07qYtKZ5igu_"
      },
      "execution_count": null,
      "outputs": []
    },
    {
      "cell_type": "code",
      "source": [
        "# statment --> The first value that i get from right to left(from x to 1 in 1--------x) since we want greatest so it is always found from x to 1 range\n",
        "# that divides both a, b is gcd(a,b)"
      ],
      "metadata": {
        "id": "djRcvq6FinFK"
      },
      "execution_count": null,
      "outputs": []
    },
    {
      "cell_type": "code",
      "source": [
        "## find GCD of 16, 24\n",
        "\n",
        "a = 16\n",
        "b = 24\n",
        "\n",
        "mini = min(a,b)\n",
        "for i in range(mini, 0, -1):\n",
        "  if a % i ==0  and b % i ==0:\n",
        "    print(\"GCD of a, b is \", i)\n",
        "    break;"
      ],
      "metadata": {
        "colab": {
          "base_uri": "https://localhost:8080/"
        },
        "id": "M1EPnMUqj6dq",
        "outputId": "3c41274b-dff2-4a09-8cce-3ff6f14a4286"
      },
      "execution_count": null,
      "outputs": [
        {
          "output_type": "stream",
          "name": "stdout",
          "text": [
            "GCD of a, b is  8\n"
          ]
        }
      ]
    },
    {
      "cell_type": "code",
      "source": [
        "# LCM --> Least common multiple\n"
      ],
      "metadata": {
        "id": "jEIIbzLqkq0j"
      },
      "execution_count": null,
      "outputs": []
    },
    {
      "cell_type": "code",
      "source": [
        "# LCM OF 6, 8"
      ],
      "metadata": {
        "id": "zoJ95dHY63Tn"
      },
      "execution_count": null,
      "outputs": []
    },
    {
      "cell_type": "code",
      "source": [
        "# multiples of 6 --> 6, 12, 18, 24, 30, 36, 42, 48.\n",
        "# multiples of 8 --> 8, 16, 24, 32, 40, 48, 72,\n",
        "\n",
        "# common multiples of 6, 8 are [24, 48]\n",
        "\n",
        "# so least from 24, 48 are 24."
      ],
      "metadata": {
        "id": "pBgNmHUs69Bh"
      },
      "execution_count": null,
      "outputs": []
    },
    {
      "cell_type": "code",
      "source": [
        "# LCM >= a, b\n",
        "\n",
        "# LCM(a, b) >= max(a,b)"
      ],
      "metadata": {
        "id": "wGPdjTlJ8Qjz"
      },
      "execution_count": null,
      "outputs": []
    },
    {
      "cell_type": "code",
      "source": [
        "tempA = 121\n",
        "revA = 0\n",
        "while(tempA > 0):\n",
        "    lastdig = tempA % 10\n",
        "    print(\"revA\", revA, lastdig)\n",
        "    revA = (revA * 10) + lastdig\n",
        "    tempA //= 10\n",
        "print(revA)"
      ],
      "metadata": {
        "colab": {
          "base_uri": "https://localhost:8080/"
        },
        "id": "jHVzuCaS9E6z",
        "outputId": "f098b0fb-bbdd-4bb4-a039-2d9dc9646d70"
      },
      "execution_count": null,
      "outputs": [
        {
          "output_type": "stream",
          "name": "stdout",
          "text": [
            "revA 0 1\n",
            "revA 1 2\n",
            "revA 12 1\n",
            "121\n"
          ]
        }
      ]
    },
    {
      "cell_type": "code",
      "source": [
        "# Problem Description\n",
        "\n",
        "# Take an integer A as input, you have to tell whether it is a prime number or not.\n",
        "\n",
        "# A prime number is a natural number greater than 1 which is divisible only by 1 and itself."
      ],
      "metadata": {
        "id": "T0Xo8DoM_51w"
      },
      "execution_count": null,
      "outputs": []
    },
    {
      "cell_type": "code",
      "source": [
        "a = int(input())\n",
        "prime = True\n",
        "for i in range(2, a):\n",
        "    if a % i == 0:\n",
        "        prime = False\n",
        "        break;\n",
        "if prime : print(\"YES\")\n",
        "else: print(\"NO\")"
      ],
      "metadata": {
        "colab": {
          "base_uri": "https://localhost:8080/"
        },
        "id": "NCpPxOFJG_JC",
        "outputId": "f4104580-30e5-4760-9b91-eabce17533ea"
      },
      "execution_count": null,
      "outputs": [
        {
          "output_type": "stream",
          "name": "stdout",
          "text": [
            "23\n",
            "YES\n"
          ]
        }
      ]
    },
    {
      "cell_type": "code",
      "source": [
        "# Write a program to input an integer T and then for each test case input two integers A and B in two different lines and then print T lines containing Least Common Multiple (LCM) of two given 2 numbers A and B.\n",
        "\n",
        "# Note: LCM of two integers is the smallest positive integer divisible by both."
      ],
      "metadata": {
        "id": "vDqQFf0KHDOi"
      },
      "execution_count": null,
      "outputs": []
    },
    {
      "cell_type": "code",
      "source": [
        "t = int(input())\n",
        "for i in range(t):\n",
        "    a = int(input())\n",
        "    b = int(input())\n",
        "    maxi = max(a, b)\n",
        "    for j in range(maxi, a*b+1):\n",
        "        if j % a == 0  and j % b == 0:\n",
        "            print(j)\n",
        "            break;"
      ],
      "metadata": {
        "colab": {
          "base_uri": "https://localhost:8080/",
          "height": 460
        },
        "id": "WKasG5uLL4Rm",
        "outputId": "217f2cdd-bce8-49c7-c247-8a9f2e5de934"
      },
      "execution_count": null,
      "outputs": [
        {
          "output_type": "stream",
          "name": "stdout",
          "text": [
            "2\n",
            "1\n",
            "3\n",
            "3\n"
          ]
        },
        {
          "output_type": "error",
          "ename": "KeyboardInterrupt",
          "evalue": "ignored",
          "traceback": [
            "\u001b[0;31m---------------------------------------------------------------------------\u001b[0m",
            "\u001b[0;31mKeyboardInterrupt\u001b[0m                         Traceback (most recent call last)",
            "\u001b[0;32m<ipython-input-11-c40e541eac33>\u001b[0m in \u001b[0;36m<cell line: 2>\u001b[0;34m()\u001b[0m\n\u001b[1;32m      1\u001b[0m \u001b[0mt\u001b[0m \u001b[0;34m=\u001b[0m \u001b[0mint\u001b[0m\u001b[0;34m(\u001b[0m\u001b[0minput\u001b[0m\u001b[0;34m(\u001b[0m\u001b[0;34m)\u001b[0m\u001b[0;34m)\u001b[0m\u001b[0;34m\u001b[0m\u001b[0;34m\u001b[0m\u001b[0m\n\u001b[1;32m      2\u001b[0m \u001b[0;32mfor\u001b[0m \u001b[0mi\u001b[0m \u001b[0;32min\u001b[0m \u001b[0mrange\u001b[0m\u001b[0;34m(\u001b[0m\u001b[0mt\u001b[0m\u001b[0;34m)\u001b[0m\u001b[0;34m:\u001b[0m\u001b[0;34m\u001b[0m\u001b[0;34m\u001b[0m\u001b[0m\n\u001b[0;32m----> 3\u001b[0;31m     \u001b[0ma\u001b[0m \u001b[0;34m=\u001b[0m \u001b[0mint\u001b[0m\u001b[0;34m(\u001b[0m\u001b[0minput\u001b[0m\u001b[0;34m(\u001b[0m\u001b[0;34m)\u001b[0m\u001b[0;34m)\u001b[0m\u001b[0;34m\u001b[0m\u001b[0;34m\u001b[0m\u001b[0m\n\u001b[0m\u001b[1;32m      4\u001b[0m     \u001b[0mb\u001b[0m \u001b[0;34m=\u001b[0m \u001b[0mint\u001b[0m\u001b[0;34m(\u001b[0m\u001b[0minput\u001b[0m\u001b[0;34m(\u001b[0m\u001b[0;34m)\u001b[0m\u001b[0;34m)\u001b[0m\u001b[0;34m\u001b[0m\u001b[0;34m\u001b[0m\u001b[0m\n\u001b[1;32m      5\u001b[0m     \u001b[0mmaxi\u001b[0m \u001b[0;34m=\u001b[0m \u001b[0mmax\u001b[0m\u001b[0;34m(\u001b[0m\u001b[0ma\u001b[0m\u001b[0;34m,\u001b[0m \u001b[0mb\u001b[0m\u001b[0;34m)\u001b[0m\u001b[0;34m\u001b[0m\u001b[0;34m\u001b[0m\u001b[0m\n",
            "\u001b[0;32m/usr/local/lib/python3.10/dist-packages/ipykernel/kernelbase.py\u001b[0m in \u001b[0;36mraw_input\u001b[0;34m(self, prompt)\u001b[0m\n\u001b[1;32m    849\u001b[0m                 \u001b[0;34m\"raw_input was called, but this frontend does not support input requests.\"\u001b[0m\u001b[0;34m\u001b[0m\u001b[0;34m\u001b[0m\u001b[0m\n\u001b[1;32m    850\u001b[0m             )\n\u001b[0;32m--> 851\u001b[0;31m         return self._input_request(str(prompt),\n\u001b[0m\u001b[1;32m    852\u001b[0m             \u001b[0mself\u001b[0m\u001b[0;34m.\u001b[0m\u001b[0m_parent_ident\u001b[0m\u001b[0;34m,\u001b[0m\u001b[0;34m\u001b[0m\u001b[0;34m\u001b[0m\u001b[0m\n\u001b[1;32m    853\u001b[0m             \u001b[0mself\u001b[0m\u001b[0;34m.\u001b[0m\u001b[0m_parent_header\u001b[0m\u001b[0;34m,\u001b[0m\u001b[0;34m\u001b[0m\u001b[0;34m\u001b[0m\u001b[0m\n",
            "\u001b[0;32m/usr/local/lib/python3.10/dist-packages/ipykernel/kernelbase.py\u001b[0m in \u001b[0;36m_input_request\u001b[0;34m(self, prompt, ident, parent, password)\u001b[0m\n\u001b[1;32m    893\u001b[0m             \u001b[0;32mexcept\u001b[0m \u001b[0mKeyboardInterrupt\u001b[0m\u001b[0;34m:\u001b[0m\u001b[0;34m\u001b[0m\u001b[0;34m\u001b[0m\u001b[0m\n\u001b[1;32m    894\u001b[0m                 \u001b[0;31m# re-raise KeyboardInterrupt, to truncate traceback\u001b[0m\u001b[0;34m\u001b[0m\u001b[0;34m\u001b[0m\u001b[0m\n\u001b[0;32m--> 895\u001b[0;31m                 \u001b[0;32mraise\u001b[0m \u001b[0mKeyboardInterrupt\u001b[0m\u001b[0;34m(\u001b[0m\u001b[0;34m\"Interrupted by user\"\u001b[0m\u001b[0;34m)\u001b[0m \u001b[0;32mfrom\u001b[0m \u001b[0;32mNone\u001b[0m\u001b[0;34m\u001b[0m\u001b[0;34m\u001b[0m\u001b[0m\n\u001b[0m\u001b[1;32m    896\u001b[0m             \u001b[0;32mexcept\u001b[0m \u001b[0mException\u001b[0m \u001b[0;32mas\u001b[0m \u001b[0me\u001b[0m\u001b[0;34m:\u001b[0m\u001b[0;34m\u001b[0m\u001b[0;34m\u001b[0m\u001b[0m\n\u001b[1;32m    897\u001b[0m                 \u001b[0mself\u001b[0m\u001b[0;34m.\u001b[0m\u001b[0mlog\u001b[0m\u001b[0;34m.\u001b[0m\u001b[0mwarning\u001b[0m\u001b[0;34m(\u001b[0m\u001b[0;34m\"Invalid Message:\"\u001b[0m\u001b[0;34m,\u001b[0m \u001b[0mexc_info\u001b[0m\u001b[0;34m=\u001b[0m\u001b[0;32mTrue\u001b[0m\u001b[0;34m)\u001b[0m\u001b[0;34m\u001b[0m\u001b[0;34m\u001b[0m\u001b[0m\n",
            "\u001b[0;31mKeyboardInterrupt\u001b[0m: Interrupted by user"
          ]
        }
      ]
    },
    {
      "cell_type": "code",
      "source": [
        "n = int(input())\n",
        "for i in range(n):\n",
        "    print(\"*\", \" \"*(n-2), end=\"*\\n\")"
      ],
      "metadata": {
        "colab": {
          "base_uri": "https://localhost:8080/"
        },
        "id": "0y9ujQPSL7wn",
        "outputId": "7a8b5115-25e9-4ca4-bdfa-df055b55d742"
      },
      "execution_count": null,
      "outputs": [
        {
          "output_type": "stream",
          "name": "stdout",
          "text": [
            "4\n",
            "*   *\n",
            "*   *\n",
            "*   *\n",
            "*   *\n"
          ]
        }
      ]
    },
    {
      "cell_type": "code",
      "source": [
        "2"
      ],
      "metadata": {
        "colab": {
          "base_uri": "https://localhost:8080/"
        },
        "id": "f-0zBeDVNRHe",
        "outputId": "15a3c948-7c6d-4560-ac9d-339c0f647048"
      },
      "execution_count": null,
      "outputs": [
        {
          "output_type": "execute_result",
          "data": {
            "text/plain": [
              "2"
            ]
          },
          "metadata": {},
          "execution_count": 15
        }
      ]
    },
    {
      "cell_type": "code",
      "source": [],
      "metadata": {
        "id": "SXIfw5RnNRsf"
      },
      "execution_count": null,
      "outputs": []
    },
    {
      "cell_type": "markdown",
      "source": [
        "## **Pattern Printing**"
      ],
      "metadata": {
        "id": "aOC2WoUZp7DL"
      }
    },
    {
      "cell_type": "code",
      "source": [
        "# Q1 Print the below pattern\n",
        "\n",
        "# *\n",
        "# * *\n",
        "# * * *\n",
        "# * * * *\n",
        "# * * * * *"
      ],
      "metadata": {
        "id": "JAvJ9WvUp_nW"
      },
      "execution_count": null,
      "outputs": []
    },
    {
      "cell_type": "code",
      "source": [
        "n = 5\n",
        "for i in range(1, n+1):\n",
        "  for j in range(i):\n",
        "    print(\"*\", end=\"\")\n",
        "  print(\"\")"
      ],
      "metadata": {
        "colab": {
          "base_uri": "https://localhost:8080/"
        },
        "id": "VIu3cGttrJoJ",
        "outputId": "3002fe5d-8a8d-4cf3-ce92-bcbef17cc8de"
      },
      "execution_count": null,
      "outputs": [
        {
          "output_type": "stream",
          "name": "stdout",
          "text": [
            "*\n",
            "**\n",
            "***\n",
            "****\n",
            "*****\n"
          ]
        }
      ]
    },
    {
      "cell_type": "code",
      "source": [
        "# Q2 print the below pattern\n",
        "\n",
        "# 1\n",
        "# 1 2\n",
        "# 1 2 3\n",
        "# 1 2 3 4\n",
        "# 1 2 3 4 5 6"
      ],
      "metadata": {
        "id": "AHmj-VJVrtqC"
      },
      "execution_count": null,
      "outputs": []
    },
    {
      "cell_type": "code",
      "source": [
        "n = 6\n",
        "for i in range(1, n+1):\n",
        "  for j in range(1, i+1):\n",
        "    print(j, end=\"\")\n",
        "  print(\"\")"
      ],
      "metadata": {
        "colab": {
          "base_uri": "https://localhost:8080/"
        },
        "id": "eVxK9gCIu_A8",
        "outputId": "5416c8ff-9db0-48b5-d2b6-8eb46d204892"
      },
      "execution_count": null,
      "outputs": [
        {
          "output_type": "stream",
          "name": "stdout",
          "text": [
            "1\n",
            "12\n",
            "123\n",
            "1234\n",
            "12345\n",
            "123456\n"
          ]
        }
      ]
    },
    {
      "cell_type": "code",
      "source": [
        "# Q3 print the following pattern"
      ],
      "metadata": {
        "id": "WQP4_9hpw8CV"
      },
      "execution_count": null,
      "outputs": []
    },
    {
      "cell_type": "code",
      "source": [
        "# *****\n",
        "#  ****\n",
        "#   ***\n",
        "#    **\n",
        "#     *"
      ],
      "metadata": {
        "id": "eXe5qlAV6vI5"
      },
      "execution_count": null,
      "outputs": []
    },
    {
      "cell_type": "code",
      "source": [
        "n = 5\n",
        "for i in range(n):\n",
        "  print(\" \"*(i), end=\"\")\n",
        "  print(\"*\"*(n-i))"
      ],
      "metadata": {
        "colab": {
          "base_uri": "https://localhost:8080/"
        },
        "id": "1bAsfZOx61qw",
        "outputId": "b18f1c4e-d55d-48d0-b9aa-453cd0ffb545"
      },
      "execution_count": null,
      "outputs": [
        {
          "output_type": "stream",
          "name": "stdout",
          "text": [
            "*****\n",
            " ****\n",
            "  ***\n",
            "   **\n",
            "    *\n"
          ]
        }
      ]
    },
    {
      "cell_type": "code",
      "source": [
        "n = int(input())\n",
        "for i in range(1, n):\n",
        "    print(\" \"*(n-i), end=\"\")\n",
        "    print(\"* \"*i, end=\" \")\n",
        "    print(\"\")"
      ],
      "metadata": {
        "colab": {
          "base_uri": "https://localhost:8080/"
        },
        "id": "Us5drAYD75hZ",
        "outputId": "30ef575b-bcd5-4cc8-97ab-7d1f8f9f0e64"
      },
      "execution_count": null,
      "outputs": [
        {
          "output_type": "stream",
          "name": "stdout",
          "text": [
            "4\n",
            "   *  \n",
            "  * *  \n",
            " * * *  \n"
          ]
        }
      ]
    },
    {
      "cell_type": "code",
      "source": [
        "# Print the following pattern\n",
        "\n",
        "\n",
        "# *\n",
        "# *2\n",
        "# *2*\n",
        "# *2*4\n",
        "# *2*4*\n",
        "# *2*4*6"
      ],
      "metadata": {
        "id": "Mgkip1UQCzeA"
      },
      "execution_count": null,
      "outputs": []
    },
    {
      "cell_type": "code",
      "source": [
        "n = 6\n",
        "for i in range(1, n+1):\n",
        "  for j in range(1, i+1):\n",
        "    if j % 2 == 0:\n",
        "      print(j, end=\"\")\n",
        "    else:\n",
        "      print(\"*\",end=\"\")\n",
        "  print(\"\")"
      ],
      "metadata": {
        "colab": {
          "base_uri": "https://localhost:8080/"
        },
        "id": "B2cMwcEFRiQr",
        "outputId": "6e30100f-a3e1-4ee4-ae15-9567aee257b6"
      },
      "execution_count": null,
      "outputs": [
        {
          "output_type": "stream",
          "name": "stdout",
          "text": [
            "*\n",
            "*2\n",
            "*2*\n",
            "*2*4\n",
            "*2*4*\n",
            "*2*4*6\n"
          ]
        }
      ]
    },
    {
      "cell_type": "code",
      "source": [
        "# Q4 Print the following pattern\n",
        "\n",
        "# n = 5\n",
        "# *****\n",
        "# ****\n",
        "# ***\n",
        "# **\n",
        "# *"
      ],
      "metadata": {
        "id": "uJBJ6RWWSFa7"
      },
      "execution_count": null,
      "outputs": []
    },
    {
      "cell_type": "code",
      "source": [
        "n = 5\n",
        "for i in range(n, 0, -1):\n",
        "  print(\"*\"*i)"
      ],
      "metadata": {
        "colab": {
          "base_uri": "https://localhost:8080/"
        },
        "id": "cWaEasejVGms",
        "outputId": "40593cb4-5b44-4163-e963-5b76344cc35d"
      },
      "execution_count": null,
      "outputs": [
        {
          "output_type": "stream",
          "name": "stdout",
          "text": [
            "*****\n",
            "****\n",
            "***\n",
            "**\n",
            "*\n"
          ]
        }
      ]
    },
    {
      "cell_type": "code",
      "source": [
        "# Q7: Print the following pattern\n",
        "\n",
        "# n = 7\n",
        "\n",
        "#       *\n",
        "#      **\n",
        "#     ***\n",
        "#    ****\n",
        "#   *****\n",
        "#  ******\n",
        "# *******"
      ],
      "metadata": {
        "id": "m_kzDq4lVTdB"
      },
      "execution_count": null,
      "outputs": []
    },
    {
      "cell_type": "code",
      "source": [
        "n = 7\n",
        "for i in range(1, n+1):\n",
        "  print(\" \"*(n-i), end=\"\")\n",
        "  print(\"*\"*i)"
      ],
      "metadata": {
        "colab": {
          "base_uri": "https://localhost:8080/"
        },
        "id": "04nA2zmZZfFl",
        "outputId": "e06fb538-e30b-40f6-a929-dd7c3a20846f"
      },
      "execution_count": null,
      "outputs": [
        {
          "output_type": "stream",
          "name": "stdout",
          "text": [
            "      *\n",
            "     **\n",
            "    ***\n",
            "   ****\n",
            "  *****\n",
            " ******\n",
            "*******\n"
          ]
        }
      ]
    },
    {
      "cell_type": "code",
      "source": [
        "x = 123\n",
        "y = str(x)\n",
        "x = int(y[::-1])\n",
        "type(x)"
      ],
      "metadata": {
        "colab": {
          "base_uri": "https://localhost:8080/"
        },
        "id": "UFiF8UE8aU6u",
        "outputId": "2bf0099c-e5b4-48dc-baa9-11a5edd878fc"
      },
      "execution_count": null,
      "outputs": [
        {
          "output_type": "execute_result",
          "data": {
            "text/plain": [
              "int"
            ]
          },
          "metadata": {},
          "execution_count": 32
        }
      ]
    },
    {
      "cell_type": "code",
      "source": [
        "x = -321\n",
        "y = str(x)\n",
        "if x < 0:\n",
        "    z = int(y[:0:-1])\n",
        "    print(\"z\", z)\n",
        "    # print(-1 * z)\n",
        "else:\n",
        "    z = int(y[::-1])\n",
        "    print(z)"
      ],
      "metadata": {
        "colab": {
          "base_uri": "https://localhost:8080/"
        },
        "id": "OQU77Z9tcDZj",
        "outputId": "2052d846-a4a8-4a6f-c0ad-096ceaf1590d"
      },
      "execution_count": null,
      "outputs": [
        {
          "output_type": "stream",
          "name": "stdout",
          "text": [
            "z 123\n"
          ]
        }
      ]
    },
    {
      "cell_type": "code",
      "source": [
        "s = \"abb\"\n",
        "output = \"\"\n",
        "if s == s[::-1]:\n",
        "    print(\"s\",s)\n",
        "for i in range(len(s)):\n",
        "    for j in range(len(s)+1):\n",
        "        res = s[i:j]\n",
        "        print(\"res\", res)\n",
        "        if res == res[::-1] and len(res) > len(output):\n",
        "            output = res\n",
        "print(output)"
      ],
      "metadata": {
        "id": "Zyk80Ik2dvYK",
        "colab": {
          "base_uri": "https://localhost:8080/"
        },
        "outputId": "c0e83342-c7f0-495c-c4cf-0a939dff3e68"
      },
      "execution_count": null,
      "outputs": [
        {
          "output_type": "stream",
          "name": "stdout",
          "text": [
            "res \n",
            "res a\n",
            "res ab\n",
            "res abb\n",
            "res \n",
            "res \n",
            "res b\n",
            "res bb\n",
            "res \n",
            "res \n",
            "res \n",
            "res b\n",
            "bb\n"
          ]
        }
      ]
    },
    {
      "cell_type": "code",
      "source": [
        "# Q7 print the following pattern\n",
        "\n",
        "#       *\n",
        "#      **\n",
        "#     ***\n",
        "#    ****\n",
        "#   *****\n",
        "#  ******\n",
        "# *******\n"
      ],
      "metadata": {
        "id": "h3Mn-C8I52qj"
      },
      "execution_count": null,
      "outputs": []
    },
    {
      "cell_type": "code",
      "source": [
        "n = 8\n",
        "for i in range(n):\n",
        "  print(\" \"*(n-i), end=\"\")\n",
        "  print(\"*\"*i)\n",
        "  print(\"\")"
      ],
      "metadata": {
        "colab": {
          "base_uri": "https://localhost:8080/"
        },
        "id": "_qpPoM1Snef0",
        "outputId": "4a0eb748-9727-4cf0-b033-14e3e1d5ae07"
      },
      "execution_count": null,
      "outputs": [
        {
          "output_type": "stream",
          "name": "stdout",
          "text": [
            "        \n",
            "\n",
            "       *\n",
            "\n",
            "      **\n",
            "\n",
            "     ***\n",
            "\n",
            "    ****\n",
            "\n",
            "   *****\n",
            "\n",
            "  ******\n",
            "\n",
            " *******\n",
            "\n"
          ]
        }
      ]
    },
    {
      "cell_type": "code",
      "source": [
        "#   Q 7 print the following pattern\n",
        "\n",
        "\n",
        "# 5 5 5 5 5\n",
        "# 5 4 4 4 5\n",
        "# 5 4 3 4 5\n",
        "# 5 4 4 4 5\n",
        "# 5 5 5 5 5\n",
        "\n"
      ],
      "metadata": {
        "id": "SsEyHTltnvh8"
      },
      "execution_count": null,
      "outputs": []
    },
    {
      "cell_type": "code",
      "source": [],
      "metadata": {
        "id": "gdBpHGpEsbgl"
      },
      "execution_count": null,
      "outputs": []
    },
    {
      "cell_type": "markdown",
      "source": [
        "## **Problem Solving 3 **"
      ],
      "metadata": {
        "id": "CWysXqDXt0a3"
      }
    },
    {
      "cell_type": "markdown",
      "source": [
        "## **addition and convertion from any base to any base. **"
      ],
      "metadata": {
        "id": "7DdV43n3Dg6B"
      }
    },
    {
      "cell_type": "code",
      "source": [
        "# addition and convertion from any base to any base.\n",
        "\n",
        "A = 3\n",
        "B = 220\n",
        "C = 22\n",
        "bValue = 0\n",
        "cValue = 0\n",
        "i = 0\n",
        "while B:\n",
        "    dig = B % 10\n",
        "    bValue += dig * (A ** i)\n",
        "    B //= 10\n",
        "    i += 1\n",
        "\n",
        "i = 0\n",
        "while C:\n",
        "    dig = C % 10\n",
        "    cValue += dig * (A ** i)\n",
        "    C //= 10\n",
        "    i += 1\n",
        "\n",
        "sum = bValue + cValue\n",
        "\n",
        "\n",
        "# Converting sum(value = 33) from base 10 to given base (3)\n",
        "result = 0\n",
        "p = 0\n",
        "while sum:\n",
        "  r = sum%A\n",
        "  print(\"r \", r)\n",
        "  result += r * 10 ** p\n",
        "  p += 1\n",
        "  sum //= A\n",
        "  print(\"sum \", sum)\n",
        "print(sum)\n",
        "print(result)\n",
        "\n",
        "\n",
        "\n",
        "### Actual solution from dashboard\n",
        "\n",
        "class Solution:\n",
        "    # @param A : integer\n",
        "    # @param B : integer\n",
        "    # @param C : integer\n",
        "    # @return an integer\n",
        "    def AnyBaseAddition(self, A, B, C):\n",
        "        ans = 0\n",
        "        carry = 0\n",
        "        power = 1\n",
        "        while (B!=0 or C!=0 or carry!=0):\n",
        "            ld1 = B%10\n",
        "            ld2 = C%10\n",
        "            B = B//10\n",
        "            C = C//10\n",
        "            summ = ld1 + ld2 + carry\n",
        "            quotient = summ//A\n",
        "            remainder = summ%A\n",
        "            ans += (remainder*power)\n",
        "            carry = quotient\n",
        "            power *= 10\n",
        "        return ans\n"
      ],
      "metadata": {
        "colab": {
          "base_uri": "https://localhost:8080/"
        },
        "id": "DKgNLlvkt2uq",
        "outputId": "ed25070e-f81f-4f8f-c139-6194b6c3e3d6"
      },
      "execution_count": null,
      "outputs": [
        {
          "output_type": "stream",
          "name": "stdout",
          "text": [
            "r  2\n",
            "sum  10\n",
            "r  1\n",
            "sum  3\n",
            "r  0\n",
            "sum  1\n",
            "r  1\n",
            "sum  0\n",
            "0\n",
            "1012\n"
          ]
        }
      ]
    },
    {
      "cell_type": "code",
      "source": [
        "int('1012', 3)"
      ],
      "metadata": {
        "colab": {
          "base_uri": "https://localhost:8080/"
        },
        "id": "Xi6Hwu5003YF",
        "outputId": "5c607fe5-fadc-47d3-df21-0369140e7f0e"
      },
      "execution_count": null,
      "outputs": [
        {
          "output_type": "execute_result",
          "data": {
            "text/plain": [
              "32"
            ]
          },
          "metadata": {},
          "execution_count": 15
        }
      ]
    },
    {
      "cell_type": "code",
      "source": [
        "# 1012\n",
        "\n",
        "# 1 * 3 ^3 + 0 * 3 ^2 + 1 * 3 ^ 1 + 2 * 3 ^ 0\n",
        "\n",
        "# 27 + 0 + 3 + 2 = 32\n",
        "\n"
      ],
      "metadata": {
        "id": "rIjxZask2dPW"
      },
      "execution_count": null,
      "outputs": []
    },
    {
      "cell_type": "code",
      "source": [
        "32 / 3\n",
        "32 % 3"
      ],
      "metadata": {
        "colab": {
          "base_uri": "https://localhost:8080/"
        },
        "id": "PZBufVB_4UOY",
        "outputId": "646bc914-c25a-42ae-f6a1-4d188ac7146d"
      },
      "execution_count": null,
      "outputs": [
        {
          "output_type": "execute_result",
          "data": {
            "text/plain": [
              "2"
            ]
          },
          "metadata": {},
          "execution_count": 33
        }
      ]
    },
    {
      "cell_type": "code",
      "source": [
        "10.666/3\n",
        "\n",
        "10.666%3"
      ],
      "metadata": {
        "colab": {
          "base_uri": "https://localhost:8080/"
        },
        "id": "MP3pnwvy4VHw",
        "outputId": "b0696860-4273-446e-a26c-3b2e38ea320a"
      },
      "execution_count": null,
      "outputs": [
        {
          "output_type": "execute_result",
          "data": {
            "text/plain": [
              "1.6660000000000004"
            ]
          },
          "metadata": {},
          "execution_count": 34
        }
      ]
    },
    {
      "cell_type": "code",
      "source": [
        "3.555/3\n",
        "\n",
        "3.555%3"
      ],
      "metadata": {
        "colab": {
          "base_uri": "https://localhost:8080/"
        },
        "id": "tFrN9Va34XXs",
        "outputId": "388e11f5-4eb5-43b0-8ce5-110f374a58bb"
      },
      "execution_count": null,
      "outputs": [
        {
          "output_type": "execute_result",
          "data": {
            "text/plain": [
              "0.5550000000000002"
            ]
          },
          "metadata": {},
          "execution_count": 35
        }
      ]
    },
    {
      "cell_type": "code",
      "source": [
        "0.555/3\n",
        "\n",
        "0.555%3"
      ],
      "metadata": {
        "colab": {
          "base_uri": "https://localhost:8080/"
        },
        "id": "j-JP-l614fxu",
        "outputId": "6125333a-4a39-44f6-a0de-db7c812bdf04"
      },
      "execution_count": null,
      "outputs": [
        {
          "output_type": "execute_result",
          "data": {
            "text/plain": [
              "0.555"
            ]
          },
          "metadata": {},
          "execution_count": 36
        }
      ]
    },
    {
      "cell_type": "code",
      "source": [],
      "metadata": {
        "id": "Wp9rSb0Z42rY"
      },
      "execution_count": null,
      "outputs": []
    },
    {
      "cell_type": "markdown",
      "source": [
        " Decimal to Any Base"
      ],
      "metadata": {
        "id": "gvOHcgmmDdGF"
      }
    },
    {
      "cell_type": "code",
      "source": [
        "## My code\n",
        "\n",
        "class Solution:\n",
        "    def DecimalToAnyBase(self, A, B):\n",
        "        result = 0\n",
        "        p = 0\n",
        "        while A:\n",
        "            r = A % B\n",
        "            result += r * 10 ** p\n",
        "            p += 1\n",
        "            A //= B\n",
        "        return result"
      ],
      "metadata": {
        "id": "kvs9e9EIDdgZ"
      },
      "execution_count": null,
      "outputs": []
    },
    {
      "cell_type": "code",
      "source": [
        "### Original Code"
      ],
      "metadata": {
        "id": "WE1Kse4bDsdI"
      },
      "execution_count": null,
      "outputs": []
    },
    {
      "cell_type": "code",
      "source": [
        "class Solution:\n",
        "    def DecimalToAnyBase(self, A, B):\n",
        "        ans = 0\n",
        "        po = 1\n",
        "        while A > 0:\n",
        "            digit = A%B\n",
        "            A //= B\n",
        "            ans += digit*po\n",
        "            po *= 10\n",
        "        return ans\n"
      ],
      "metadata": {
        "id": "DyFngd4CDzEu"
      },
      "execution_count": null,
      "outputs": []
    },
    {
      "cell_type": "code",
      "source": [
        "##### Mulitplication"
      ],
      "metadata": {
        "id": "tRqWEXgoDzc8"
      },
      "execution_count": null,
      "outputs": []
    },
    {
      "cell_type": "code",
      "source": [
        "### My Code\n",
        "A = 6\n",
        "B = 21\n",
        "C = 3\n",
        "bValue = 0\n",
        "cValue = 0\n",
        "i = 0\n",
        "while B or C:\n",
        "    dig = B % 10\n",
        "    dig1 = C % 10\n",
        "    bValue += dig * (A ** i)\n",
        "    cValue += dig1 * (A ** i)\n",
        "    B //= 10\n",
        "    C //= 10\n",
        "    i += 1\n",
        "\n",
        "mul = bValue * cValue\n",
        "result = 0\n",
        "i = 0\n",
        "while mul:\n",
        "    dig = mul % A\n",
        "    result +=  dig *(10 ** i)\n",
        "    mul //= A\n",
        "    i += 1\n",
        "print(result)\n",
        "\n",
        "# 103 ==> 1 * 6 ^2 + 0 * 6 ^1 + 3 * 6 ^ 0\n",
        "# ==> 36 + 0 + 3 => 39.\n",
        "\n",
        "# 21 => 2 * 6 ^1 + 1 * 6 ^0 => 12 + 1 => 13\n",
        "# 3 => 3 * 6 ^ 0 ==> 3 ==> 16.\n",
        "\n"
      ],
      "metadata": {
        "colab": {
          "base_uri": "https://localhost:8080/"
        },
        "id": "F6R8o0PkRpDc",
        "outputId": "2a1696c8-ef8d-4886-c7bf-bb864321f2d9"
      },
      "execution_count": null,
      "outputs": [
        {
          "output_type": "stream",
          "name": "stdout",
          "text": [
            "103\n"
          ]
        }
      ]
    },
    {
      "cell_type": "code",
      "source": [
        "### Original Code\n",
        "class Solution:\n",
        "    def AnyBaseAddition(self, A, B, C):\n",
        "        num1 = B\n",
        "        num2 = C\n",
        "        ans = 0\n",
        "        carry = 0\n",
        "        power = 1\n",
        "        while (num1 != 0 or num2 != 0 or carry != 0):\n",
        "            ld1 = num1 % 10\n",
        "            ld2 = num2 % 10\n",
        "            num1 = num1//10\n",
        "            num2 = num2//10\n",
        "            summ = ld1 + ld2 + carry\n",
        "            quotient = summ // A\n",
        "            remainder = summ % A\n",
        "            ans += (remainder * power)\n",
        "            carry = quotient\n",
        "            power *= 10\n",
        "        return ans\n",
        "    def getSingleProduct(self, A, B, C):\n",
        "        num1 = B\n",
        "        num2 = C\n",
        "        ans = 0\n",
        "        c = 0\n",
        "        p = 1\n",
        "        while (num1>0 or c>0):\n",
        "            d1 = num1%10\n",
        "            num1 = num1//10\n",
        "            d = d1*num2+c\n",
        "            c = d//A\n",
        "            d %= A\n",
        "            ans = ans + d*p\n",
        "            p *= 10\n",
        "        return ans\n",
        "    def AnyBaseMultiplication(self, A, B, C):\n",
        "        ans = 0\n",
        "        p = 1\n",
        "        while (C > 0):\n",
        "            d2 = C%10\n",
        "            C = C//10\n",
        "            singleDigProduct = self.getSingleProduct(A, B, d2)\n",
        "            ans = self.AnyBaseAddition(A, ans, singleDigProduct*p)\n",
        "            p *= 10\n",
        "        return ans"
      ],
      "metadata": {
        "id": "V-0m6mOuRtxs"
      },
      "execution_count": null,
      "outputs": []
    },
    {
      "cell_type": "code",
      "source": [],
      "metadata": {
        "id": "ZNUUwe8mX-HL"
      },
      "execution_count": null,
      "outputs": []
    },
    {
      "cell_type": "markdown",
      "source": [
        "## **Time Complexity of the code**"
      ],
      "metadata": {
        "id": "1aJW4rR0etjD"
      }
    },
    {
      "cell_type": "code",
      "source": [
        "# for i in range(n):\n",
        "#   print(i)\n",
        "\n",
        "# for j in range(m):\n",
        "#   print(j)\n",
        "\n",
        "# Time complexity of the code is n+m"
      ],
      "metadata": {
        "id": "Rrx7YyOoexHC"
      },
      "execution_count": null,
      "outputs": []
    },
    {
      "cell_type": "code",
      "source": [
        "i = 1\n",
        "n = 9\n",
        "while i <= n:\n",
        "  i += 2\n",
        "\n",
        "\n",
        "# total number of iterations are n//2"
      ],
      "metadata": {
        "id": "ih895bZZe6XS"
      },
      "execution_count": null,
      "outputs": []
    },
    {
      "cell_type": "code",
      "source": [
        "i = 1\n",
        "while i * i <= n:\n",
        "  i += 1\n",
        "\n",
        "## total number of iterations for this code: sqrt(n)"
      ],
      "metadata": {
        "id": "0blryIR5oyCD"
      },
      "execution_count": null,
      "outputs": []
    },
    {
      "cell_type": "code",
      "source": [
        "i  = 1\n",
        "\n",
        "while i <100:\n",
        "  i += 1\n",
        "\n",
        "## Total number of iterations for this code is 99"
      ],
      "metadata": {
        "id": "nimcjA6go1xB"
      },
      "execution_count": null,
      "outputs": []
    },
    {
      "cell_type": "code",
      "source": [
        "i  = 1\n",
        "\n",
        "while i <10000:\n",
        "  i += 1\n",
        "\n",
        "## Total number of iterations for this code is 9999"
      ],
      "metadata": {
        "id": "l51hXgq2pPQ2"
      },
      "execution_count": null,
      "outputs": []
    },
    {
      "cell_type": "code",
      "source": [
        "for i in range(n):\n",
        "  for j in range(m):\n",
        "    ## task\n",
        "\n",
        "\n",
        "## Number of iterations are n * m"
      ],
      "metadata": {
        "colab": {
          "base_uri": "https://localhost:8080/",
          "height": 141
        },
        "id": "g99FCFocrJ-s",
        "outputId": "1f9389bd-b53d-4b65-c89a-ce14cc916c3b"
      },
      "execution_count": null,
      "outputs": [
        {
          "output_type": "error",
          "ename": "SyntaxError",
          "evalue": "ignored",
          "traceback": [
            "\u001b[0;36m  File \u001b[0;32m\"<ipython-input-85-3a442b924cff>\"\u001b[0;36m, line \u001b[0;32m6\u001b[0m\n\u001b[0;31m    ## Number of iterations are n * m\u001b[0m\n\u001b[0m                                     ^\u001b[0m\n\u001b[0;31mSyntaxError\u001b[0m\u001b[0;31m:\u001b[0m incomplete input\n"
          ]
        }
      ]
    },
    {
      "cell_type": "code",
      "source": [
        "\n",
        "\n",
        "for i in range(n);\n",
        "\n",
        "  for j in range(m):\n",
        "\n",
        "    # task\n",
        "\n",
        "## Number of iterations n^2"
      ],
      "metadata": {
        "id": "_dC1p2V2rWZh"
      },
      "execution_count": null,
      "outputs": []
    },
    {
      "cell_type": "code",
      "source": [
        "while i <= m:\n",
        "\n",
        "  while i <= n:\n",
        "\n",
        "    j += 1\n",
        "  i += 2\n",
        "\n",
        "# Number of iterations\n",
        "# outer loops run (m+1)//2 times\n",
        "# inner loop runs n number of times\n",
        "\n",
        "# total number of iterations ((m+1)//2)*n"
      ],
      "metadata": {
        "id": "eF9-mKFBr1Qf"
      },
      "execution_count": null,
      "outputs": []
    },
    {
      "cell_type": "markdown",
      "source": [
        "Time Complexity"
      ],
      "metadata": {
        "id": "Kcasb2iCthf2"
      }
    },
    {
      "cell_type": "code",
      "source": [
        "# Execution time is not the correct measure to test the performance of the code, because it depends on many external factors\n",
        "# hence we dont compare execution time between 2 algorithsm(logic)"
      ],
      "metadata": {
        "id": "hWLeufaCtinh"
      },
      "execution_count": null,
      "outputs": []
    },
    {
      "cell_type": "code",
      "source": [
        "# conclusions --> no of iterations of the code as a measure of performance\n"
      ],
      "metadata": {
        "id": "KSASibAsxCtY"
      },
      "execution_count": null,
      "outputs": []
    },
    {
      "cell_type": "code",
      "source": [
        "# Calculate No of iterations\n",
        "\n",
        "# 1. Ignore lower order terms\n",
        "\n",
        "# 2. Ignore constatns\n",
        "\n",
        "# 3. Ignore const coefficients"
      ],
      "metadata": {
        "id": "wKH4HZc4zlt5"
      },
      "execution_count": null,
      "outputs": []
    },
    {
      "cell_type": "code",
      "source": [
        "# in n^2+2n ==> here order 2 is greater than 2n so n^2 should be considered  time complexity is ==> O(n^2)"
      ],
      "metadata": {
        "id": "4SQbHis2zvdP"
      },
      "execution_count": null,
      "outputs": []
    },
    {
      "cell_type": "code",
      "source": [
        "# in n^2 +5n^3+3n+9  in this time complexity is O(n^3)"
      ],
      "metadata": {
        "id": "7g9E9oo40XYK"
      },
      "execution_count": null,
      "outputs": []
    },
    {
      "cell_type": "code",
      "source": [
        "# in (n^2)/2+5n+(n^4/9)+5 in this time complexity is O(n^4) ignore lower oders and ignore const coefficients"
      ],
      "metadata": {
        "id": "LBm7XzB118Xb"
      },
      "execution_count": null,
      "outputs": []
    },
    {
      "cell_type": "code",
      "source": [
        "# ZIGZAG   ------------------------------- LEET CODE PROBLEM ZIGZAG ----------------------------------------------\n",
        "# output1 = \"P   A   H   N\n",
        "# A P L S I I G\n",
        "# Y   I   R\"\n",
        "s = \"PAYPALISHIRING\"\n",
        "rows = 3\n",
        "i = 0\n",
        "h = 0\n",
        "reverse = False\n",
        "output = [[] for i in range(rows)]\n",
        "for i in range(len(s)):\n",
        "  output[h].append(s[i])\n",
        "  if h == rows-1:\n",
        "    reverse = True\n",
        "\n",
        "  if h == 0:\n",
        "    reverse = False\n",
        "\n",
        "  if reverse:\n",
        "    h -= 1\n",
        "  else:\n",
        "    h += 1\n",
        "\n",
        "res = \"\"\n",
        "for j in range(len(output)):\n",
        "  res += (\"\").join(output[j])\n",
        "print(\"res \", res)\n",
        "\n",
        "\n",
        "# print(\"output \", output)\n",
        "\n",
        "\n",
        "########################################### ABOVE CODE IS ONLY WORKING FOR NUMROWS > 1 for NUMROWS =1 IT IS NOT WORKING MODIFY IT #################"
      ],
      "metadata": {
        "colab": {
          "base_uri": "https://localhost:8080/"
        },
        "id": "udk1QiYq2T1o",
        "outputId": "f2f8b801-5cee-4051-a3f0-0ec7621bc098"
      },
      "execution_count": null,
      "outputs": [
        {
          "output_type": "stream",
          "name": "stdout",
          "text": [
            "res  PAHNAPLSIIGYIR\n"
          ]
        }
      ]
    },
    {
      "cell_type": "code",
      "source": [
        "####### end of python module 1"
      ],
      "metadata": {
        "id": "84gPUsr1lVu5"
      },
      "execution_count": null,
      "outputs": []
    }
  ],
  "metadata": {
    "colab": {
      "provenance": [],
      "authorship_tag": "ABX9TyOEzI9f7eQQ+Y8OtYHmmHv/",
      "include_colab_link": true
    },
    "kernelspec": {
      "display_name": "Python 3",
      "name": "python3"
    },
    "language_info": {
      "name": "python"
    }
  },
  "nbformat": 4,
  "nbformat_minor": 0
}